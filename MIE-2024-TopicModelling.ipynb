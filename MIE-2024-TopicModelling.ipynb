{
 "cells": [
  {
   "cell_type": "markdown",
   "id": "972f75a3-8cf1-4a9f-a270-769cf0ea60da",
   "metadata": {},
   "source": [
    "### MIE 2024 Submission - Topic Modelling \n",
    "\n",
    "#### J. Hastings and M. Wosny\n",
    "\n",
    "\n",
    "We evaluate the behaviour of topic modelling approaches on qualitative interview datasets with relevance to healthcare research. \n",
    "\n"
   ]
  },
  {
   "cell_type": "markdown",
   "id": "f36121c7-979f-4231-aa76-2c0e59451040",
   "metadata": {},
   "source": [
    "#### Datasets\n",
    "\n",
    "We load two different datasets: \n",
    "- Newcastle perspectives on flu and vaccination\n",
    "- Extracts from our own study of clinician perspectives on digitalisation in hospitals\n",
    "\n"
   ]
  },
  {
   "cell_type": "code",
   "execution_count": 14,
   "id": "7e880b85-60a7-428a-a434-f4ff87942d84",
   "metadata": {},
   "outputs": [
    {
     "data": {
      "application/vnd.jupyter.widget-view+json": {
       "model_id": "8ac0d06075a24e2397be7e7db1a6f35d",
       "version_major": 2,
       "version_minor": 0
      },
      "text/plain": [
       "Generating train split: 0 examples [00:00, ? examples/s]"
      ]
     },
     "metadata": {},
     "output_type": "display_data"
    },
    {
     "data": {
      "text/plain": [
       "Dataset({\n",
       "    features: ['text'],\n",
       "    num_rows: 12\n",
       "})"
      ]
     },
     "execution_count": 14,
     "metadata": {},
     "output_type": "execute_result"
    }
   ],
   "source": [
    "from datasets import load_dataset\n",
    "\n",
    "ds1 = load_dataset(\"text\", data_dir=\"~/Work/Python/hastingslab-aitools/topic-modelling/datasets/health-promotion-interviews-newcastle/txt/\", sample_by=\"document\",split='train') # sample_by=\"paragraph\",\n",
    "#ds2 = load_dataset(\"text\", data_dir=\"datasets/cedi-study-extracts/*.txt\", sample_by=\"paragraph\",split='train')\n",
    "ds1"
   ]
  },
  {
   "cell_type": "markdown",
   "id": "96db013e-ccc8-4aaf-b6dd-3d147f1f8d2d",
   "metadata": {},
   "source": [
    "### LSA approach\n",
    "\n",
    "We implement a latent semantic analysis as an exemplar of traditional topic modeling approaches"
   ]
  },
  {
   "cell_type": "code",
   "execution_count": 5,
   "id": "a87901ee-f077-41ae-aba4-2c8c873d5cfd",
   "metadata": {},
   "outputs": [],
   "source": [
    "import spacy\n",
    "import os\n",
    "import numpy as np\n",
    "from sklearn.feature_extraction.text import TfidfVectorizer\n",
    "from sklearn.decomposition import TruncatedSVD\n",
    "import matplotlib.pyplot as plt\n",
    "from nltk.corpus import stopwords\n",
    "\n",
    "# Load spaCy model for English\n",
    "nlp = spacy.load(\"en_core_web_sm\")\n",
    "\n",
    "# Preprocessing and stopwords for the English language\n",
    "processed_docs_all = []\n",
    "\n",
    "stopwords = set(['probably', 'simply', 'exactly', 'bit', 'tell', 'okay', 'datum', 'stadt', 'yeah','look','um','like','sure'])\n",
    "\n",
    "for text in ds1['text']:\n",
    "    # Remove occurrences of stopwrods\n",
    "    text_without_okay = ' '.join([word for word in text.split() if word.lower() not in stopwords])\n",
    "\n",
    "    processed_doc = ' '.join([token.lemma_ for token in nlp(text_without_okay) if not token.is_stop\n",
    "                              and token.is_alpha and token.lemma_ not in stopwords])\n",
    "    processed_docs_all.append(processed_doc)"
   ]
  },
  {
   "cell_type": "code",
   "execution_count": null,
   "id": "0f4ca260-7496-495b-aee2-ad48e216d63c",
   "metadata": {},
   "outputs": [
    {
     "name": "stdout",
     "output_type": "stream",
     "text": [
      "Topic 1: participant, yes, agree, child, right, think, know, fine, flu, speak, price, timothy, vaccine, great, kind, thing, year, sorry, pretty, absolutely\n",
      "\n",
      "Topic 2: timothy, price, flu, know, child, think, vaccine, kind, right, thing, sort, year, question, old, little, want, absolutely, vaccination, information, benefit\n",
      "\n",
      "Topic 3: price, timothy, agree, study, yes, right, interview, understand, information, research, copy, quotation, collect, researcher, receive, excellent, finding, statement, sheet, permission\n",
      "\n",
      "Topic 4: yes, agree, think, study, know, read, statement, kind, consent, sheet, thing, ask, vaccine, series, start, question, actually, interesting, information, flu\n",
      "\n",
      "Topic 5: agree, study, think, know, kind, flu, thing, read, people, statement, information, ask, sort, series, consent, sheet, come, symptom, maybe, obviously\n",
      "\n",
      "Topic 6: right, child, agree, old, speak, younger, year, way, school, ahead, yes, absolutely, start, laughter, help, age, reception, little, dive, benefit\n",
      "\n",
      "Topic 7: laughter, fine, information, kind, research, want, researcher, thing, vaccination, collect, receive, share, think, sickness, learn, email, future, thoroughly, purpose, use\n",
      "\n",
      "Topic 8: right, information, understand, interview, researcher, collect, study, question, know, research, work, answer, permission, access, assist, individual, newcastle, university, share, future\n",
      "\n",
      "Topic 9: child, speak, information, flu, vaccine, question, understand, interview, vaccination, researcher, collect, ask, learn, general, talk, permission, assist, individual, gp, professional\n",
      "\n",
      "Topic 10: vaccine, flu, right, year, personally, question, ask, general, learn, information, want, vaccination, talk, close, downside, sickness, daughter, hope, kind, thought\n",
      "\n"
     ]
    }
   ],
   "source": [
    "# Vectorize the text data using TF-IDF\n",
    "vectorizer = TfidfVectorizer(max_df=0.95, min_df=2, stop_words='english')\n",
    "\n",
    "tfidf_data = vectorizer.fit_transform(processed_docs_all)\n",
    "\n",
    "# Define the number of topics (or components in LSA)\n",
    "n_topics = 10\n",
    "\n",
    "# Create a Truncated SVD (LSA) model\n",
    "lsa = TruncatedSVD(n_components=n_topics, random_state=42)\n",
    "\n",
    "# Fit the model to the TF-IDF data\n",
    "lsa.fit(tfidf_data)\n",
    "\n",
    "# Transform the TF-IDF data using the fitted LSA model\n",
    "lsa_topic_matrix = lsa.transform(tfidf_data)\n",
    "\n",
    "# Number of top words per topic\n",
    "num_top_words = 20\n",
    "    \n",
    "# Print the top 20 words for each topic\n",
    "feature_names = np.array(vectorizer.get_feature_names_out())\n",
    "for topic_idx, topic in enumerate(lsa.components_):\n",
    "    top_words_idx = topic.argsort()[:-num_top_words-1:-1]\n",
    "    top_words = feature_names[top_words_idx]\n",
    "    print(f\"Topic {topic_idx + 1}: {', '.join(top_words)}\\n\")"
   ]
  },
  {
   "cell_type": "markdown",
   "id": "9a55d951-ccf9-4fb2-b91b-23aecebb7bc1",
   "metadata": {},
   "source": [
    "### Semantic Signal Separation\n",
    "\n",
    "We compare the above topics to the results of using a small language-model based approach, Semantic Signal Separation\n"
   ]
  },
  {
   "cell_type": "code",
   "execution_count": 8,
   "id": "11e7eee6-05c5-499a-ab9a-5a0c65c5140e",
   "metadata": {},
   "outputs": [
    {
     "data": {
      "application/vnd.jupyter.widget-view+json": {
       "model_id": "21fd7aa2702746548d7e4b770ea7808a",
       "version_major": 2,
       "version_minor": 0
      },
      "text/plain": [
       "config.json:   0%|          | 0.00/615 [00:00<?, ?B/s]"
      ]
     },
     "metadata": {},
     "output_type": "display_data"
    },
    {
     "data": {
      "application/vnd.jupyter.widget-view+json": {
       "model_id": "",
       "version_major": 2,
       "version_minor": 0
      },
      "text/plain": [
       "Output()"
      ]
     },
     "metadata": {},
     "output_type": "display_data"
    },
    {
     "data": {
      "text/html": [
       "<pre style=\"white-space:pre;overflow-x:auto;line-height:normal;font-family:Menlo,'DejaVu Sans Mono',consolas,'Courier New',monospace\"><span style=\"color: #7fbfbf; text-decoration-color: #7fbfbf\">[14:08:27] </span>Documents encoded.                                                                          <a href=\"file:///opt/miniconda3/envs/llms/lib/python3.12/site-packages/turftopic/models/decomp.py\" target=\"_blank\"><span style=\"color: #7f7f7f; text-decoration-color: #7f7f7f\">decomp.py</span></a><span style=\"color: #7f7f7f; text-decoration-color: #7f7f7f\">:</span><a href=\"file:///opt/miniconda3/envs/llms/lib/python3.12/site-packages/turftopic/models/decomp.py#75\" target=\"_blank\"><span style=\"color: #7f7f7f; text-decoration-color: #7f7f7f\">75</span></a>\n",
       "</pre>\n"
      ],
      "text/plain": [
       "\u001b[2;36m[14:08:27]\u001b[0m\u001b[2;36m \u001b[0mDocuments encoded.                                                                          \u001b]8;id=298705;file:///opt/miniconda3/envs/llms/lib/python3.12/site-packages/turftopic/models/decomp.py\u001b\\\u001b[2mdecomp.py\u001b[0m\u001b]8;;\u001b\\\u001b[2m:\u001b[0m\u001b]8;id=32805;file:///opt/miniconda3/envs/llms/lib/python3.12/site-packages/turftopic/models/decomp.py#75\u001b\\\u001b[2m75\u001b[0m\u001b]8;;\u001b\\\n"
      ]
     },
     "metadata": {},
     "output_type": "display_data"
    },
    {
     "data": {
      "text/html": [
       "<pre style=\"white-space:pre;overflow-x:auto;line-height:normal;font-family:Menlo,'DejaVu Sans Mono',consolas,'Courier New',monospace\">/opt/miniconda3/envs/llms/lib/python3.12/site-packages/sklearn/decomposition/_fastica.py:128: ConvergenceWarning: \n",
       "FastICA did not converge. Consider increasing tolerance or the maximum number of iterations.\n",
       "  warnings.warn(\n",
       "</pre>\n"
      ],
      "text/plain": [
       "/opt/miniconda3/envs/llms/lib/python3.12/site-packages/sklearn/decomposition/_fastica.py:128: ConvergenceWarning: \n",
       "FastICA did not converge. Consider increasing tolerance or the maximum number of iterations.\n",
       "  warnings.warn(\n"
      ]
     },
     "metadata": {},
     "output_type": "display_data"
    },
    {
     "data": {
      "text/html": [
       "<pre style=\"white-space:pre;overflow-x:auto;line-height:normal;font-family:Menlo,'DejaVu Sans Mono',consolas,'Courier New',monospace\"><span style=\"color: #7fbfbf; text-decoration-color: #7fbfbf\">           </span>Decomposition done.                                                                         <a href=\"file:///opt/miniconda3/envs/llms/lib/python3.12/site-packages/turftopic/models/decomp.py\" target=\"_blank\"><span style=\"color: #7f7f7f; text-decoration-color: #7f7f7f\">decomp.py</span></a><span style=\"color: #7f7f7f; text-decoration-color: #7f7f7f\">:</span><a href=\"file:///opt/miniconda3/envs/llms/lib/python3.12/site-packages/turftopic/models/decomp.py#78\" target=\"_blank\"><span style=\"color: #7f7f7f; text-decoration-color: #7f7f7f\">78</span></a>\n",
       "</pre>\n"
      ],
      "text/plain": [
       "\u001b[2;36m          \u001b[0m\u001b[2;36m \u001b[0mDecomposition done.                                                                         \u001b]8;id=405107;file:///opt/miniconda3/envs/llms/lib/python3.12/site-packages/turftopic/models/decomp.py\u001b\\\u001b[2mdecomp.py\u001b[0m\u001b]8;;\u001b\\\u001b[2m:\u001b[0m\u001b]8;id=130633;file:///opt/miniconda3/envs/llms/lib/python3.12/site-packages/turftopic/models/decomp.py#78\u001b\\\u001b[2m78\u001b[0m\u001b]8;;\u001b\\\n"
      ]
     },
     "metadata": {},
     "output_type": "display_data"
    },
    {
     "data": {
      "text/html": [
       "<pre style=\"white-space:pre;overflow-x:auto;line-height:normal;font-family:Menlo,'DejaVu Sans Mono',consolas,'Courier New',monospace\"><span style=\"color: #7fbfbf; text-decoration-color: #7fbfbf\">           </span>Term extraction done.                                                                       <a href=\"file:///opt/miniconda3/envs/llms/lib/python3.12/site-packages/turftopic/models/decomp.py\" target=\"_blank\"><span style=\"color: #7f7f7f; text-decoration-color: #7f7f7f\">decomp.py</span></a><span style=\"color: #7f7f7f; text-decoration-color: #7f7f7f\">:</span><a href=\"file:///opt/miniconda3/envs/llms/lib/python3.12/site-packages/turftopic/models/decomp.py#81\" target=\"_blank\"><span style=\"color: #7f7f7f; text-decoration-color: #7f7f7f\">81</span></a>\n",
       "</pre>\n"
      ],
      "text/plain": [
       "\u001b[2;36m          \u001b[0m\u001b[2;36m \u001b[0mTerm extraction done.                                                                       \u001b]8;id=978126;file:///opt/miniconda3/envs/llms/lib/python3.12/site-packages/turftopic/models/decomp.py\u001b\\\u001b[2mdecomp.py\u001b[0m\u001b]8;;\u001b\\\u001b[2m:\u001b[0m\u001b]8;id=642412;file:///opt/miniconda3/envs/llms/lib/python3.12/site-packages/turftopic/models/decomp.py#81\u001b\\\u001b[2m81\u001b[0m\u001b]8;;\u001b\\\n"
      ]
     },
     "metadata": {},
     "output_type": "display_data"
    },
    {
     "data": {
      "text/html": [
       "<pre style=\"white-space:pre;overflow-x:auto;line-height:normal;font-family:Menlo,'DejaVu Sans Mono',consolas,'Courier New',monospace\"><span style=\"color: #7fbfbf; text-decoration-color: #7fbfbf\">[14:08:28] </span>Vocabulary encoded.                                                                         <a href=\"file:///opt/miniconda3/envs/llms/lib/python3.12/site-packages/turftopic/models/decomp.py\" target=\"_blank\"><span style=\"color: #7f7f7f; text-decoration-color: #7f7f7f\">decomp.py</span></a><span style=\"color: #7f7f7f; text-decoration-color: #7f7f7f\">:</span><a href=\"file:///opt/miniconda3/envs/llms/lib/python3.12/site-packages/turftopic/models/decomp.py#84\" target=\"_blank\"><span style=\"color: #7f7f7f; text-decoration-color: #7f7f7f\">84</span></a>\n",
       "</pre>\n"
      ],
      "text/plain": [
       "\u001b[2;36m[14:08:28]\u001b[0m\u001b[2;36m \u001b[0mVocabulary encoded.                                                                         \u001b]8;id=461209;file:///opt/miniconda3/envs/llms/lib/python3.12/site-packages/turftopic/models/decomp.py\u001b\\\u001b[2mdecomp.py\u001b[0m\u001b]8;;\u001b\\\u001b[2m:\u001b[0m\u001b]8;id=690826;file:///opt/miniconda3/envs/llms/lib/python3.12/site-packages/turftopic/models/decomp.py#84\u001b\\\u001b[2m84\u001b[0m\u001b]8;;\u001b\\\n"
      ]
     },
     "metadata": {},
     "output_type": "display_data"
    },
    {
     "data": {
      "text/html": [
       "<pre style=\"white-space:pre;overflow-x:auto;line-height:normal;font-family:Menlo,'DejaVu Sans Mono',consolas,'Courier New',monospace\"><span style=\"color: #7fbfbf; text-decoration-color: #7fbfbf\">           </span>Model fitting done.                                                                         <a href=\"file:///opt/miniconda3/envs/llms/lib/python3.12/site-packages/turftopic/models/decomp.py\" target=\"_blank\"><span style=\"color: #7f7f7f; text-decoration-color: #7f7f7f\">decomp.py</span></a><span style=\"color: #7f7f7f; text-decoration-color: #7f7f7f\">:</span><a href=\"file:///opt/miniconda3/envs/llms/lib/python3.12/site-packages/turftopic/models/decomp.py#88\" target=\"_blank\"><span style=\"color: #7f7f7f; text-decoration-color: #7f7f7f\">88</span></a>\n",
       "</pre>\n"
      ],
      "text/plain": [
       "\u001b[2;36m          \u001b[0m\u001b[2;36m \u001b[0mModel fitting done.                                                                         \u001b]8;id=744838;file:///opt/miniconda3/envs/llms/lib/python3.12/site-packages/turftopic/models/decomp.py\u001b\\\u001b[2mdecomp.py\u001b[0m\u001b]8;;\u001b\\\u001b[2m:\u001b[0m\u001b]8;id=206192;file:///opt/miniconda3/envs/llms/lib/python3.12/site-packages/turftopic/models/decomp.py#88\u001b\\\u001b[2m88\u001b[0m\u001b]8;;\u001b\\\n"
      ]
     },
     "metadata": {},
     "output_type": "display_data"
    },
    {
     "data": {
      "text/html": [
       "<pre style=\"white-space:pre;overflow-x:auto;line-height:normal;font-family:Menlo,'DejaVu Sans Mono',consolas,'Courier New',monospace\"></pre>\n"
      ],
      "text/plain": []
     },
     "metadata": {},
     "output_type": "display_data"
    },
    {
     "data": {
      "text/html": [
       "<pre style=\"white-space:pre;overflow-x:auto;line-height:normal;font-family:Menlo,'DejaVu Sans Mono',consolas,'Courier New',monospace\">┏━━━━━━━━━━┳━━━━━━━━━━━━━━━━━━━━━━━━━━━━━━━━━━━━━━━━━━━━━━━━━━━━━━━━━━━━━━━━━━━━━━━━━━━━━━━━━━━━━━━━━━━━━━━━━━━━━━┓\n",
       "┃<span style=\"font-weight: bold\"> Topic ID </span>┃<span style=\"font-weight: bold\"> Top 10 Words                                                                                         </span>┃\n",
       "┡━━━━━━━━━━╇━━━━━━━━━━━━━━━━━━━━━━━━━━━━━━━━━━━━━━━━━━━━━━━━━━━━━━━━━━━━━━━━━━━━━━━━━━━━━━━━━━━━━━━━━━━━━━━━━━━━━━┩\n",
       "│<span style=\"color: #000080; text-decoration-color: #000080\">        0 </span>│<span style=\"color: #800080; text-decoration-color: #800080\"> nhs, hospital, nursery, medical, health, nurse, newcastle, doctor, website, benefit                  </span>│\n",
       "├──────────┼──────────────────────────────────────────────────────────────────────────────────────────────────────┤\n",
       "│<span style=\"color: #000080; text-decoration-color: #000080\">        1 </span>│<span style=\"color: #800080; text-decoration-color: #800080\"> august, september, available, year, date, price, early, yes, eligible, month                         </span>│\n",
       "├──────────┼──────────────────────────────────────────────────────────────────────────────────────────────────────┤\n",
       "│<span style=\"color: #000080; text-decoration-color: #000080\">        2 </span>│<span style=\"color: #800080; text-decoration-color: #800080\"> agree, personally, downside, necessarily, satisfactorily, health, research, point, concern, effect   </span>│\n",
       "├──────────┼──────────────────────────────────────────────────────────────────────────────────────────────────────┤\n",
       "│<span style=\"color: #000080; text-decoration-color: #000080\">        3 </span>│<span style=\"color: #800080; text-decoration-color: #800080\"> necessarily, consent, certain, fine, satisfactorily, withdraw, correctly, month, downside, august    </span>│\n",
       "├──────────┼──────────────────────────────────────────────────────────────────────────────────────────────────────┤\n",
       "│<span style=\"color: #000080; text-decoration-color: #000080\">        4 </span>│<span style=\"color: #800080; text-decoration-color: #800080\"> laughter, happy, sound, sickness, audio, end, life, email, long, seriously                           </span>│\n",
       "├──────────┼──────────────────────────────────────────────────────────────────────────────────────────────────────┤\n",
       "│<span style=\"color: #000080; text-decoration-color: #000080\">        5 </span>│<span style=\"color: #800080; text-decoration-color: #800080\"> vaccine, vaccination, vaccinate, flu, participant, child, injection, virus, research, coronavirus    </span>│\n",
       "├──────────┼──────────────────────────────────────────────────────────────────────────────────────────────────────┤\n",
       "│<span style=\"color: #000080; text-decoration-color: #000080\">        6 </span>│<span style=\"color: #800080; text-decoration-color: #800080\"> child, parent, daughter, childhood, nursery, adult, son, age, younger, kid                           </span>│\n",
       "├──────────┼──────────────────────────────────────────────────────────────────────────────────────────────────────┤\n",
       "│<span style=\"color: #000080; text-decoration-color: #000080\">        7 </span>│<span style=\"color: #800080; text-decoration-color: #800080\"> vaccine, vaccination, vaccinate, protect, injection, benefit, pick, think, quotation, option         </span>│\n",
       "├──────────┼──────────────────────────────────────────────────────────────────────────────────────────────────────┤\n",
       "│<span style=\"color: #000080; text-decoration-color: #000080\">        8 </span>│<span style=\"color: #800080; text-decoration-color: #800080\"> research, study, researcher, interview, evidence, publication, document, information, anonymize,     </span>│\n",
       "│<span style=\"color: #000080; text-decoration-color: #000080\">          </span>│<span style=\"color: #800080; text-decoration-color: #800080\"> email                                                                                                </span>│\n",
       "├──────────┼──────────────────────────────────────────────────────────────────────────────────────────────────────┤\n",
       "│<span style=\"color: #000080; text-decoration-color: #000080\">        9 </span>│<span style=\"color: #800080; text-decoration-color: #800080\"> participant, participation, routine, conversation, interview, study, practice, appointment, group,   </span>│\n",
       "│<span style=\"color: #000080; text-decoration-color: #000080\">          </span>│<span style=\"color: #800080; text-decoration-color: #800080\"> consider                                                                                             </span>│\n",
       "└──────────┴──────────────────────────────────────────────────────────────────────────────────────────────────────┘\n",
       "</pre>\n"
      ],
      "text/plain": [
       "┏━━━━━━━━━━┳━━━━━━━━━━━━━━━━━━━━━━━━━━━━━━━━━━━━━━━━━━━━━━━━━━━━━━━━━━━━━━━━━━━━━━━━━━━━━━━━━━━━━━━━━━━━━━━━━━━━━━┓\n",
       "┃\u001b[1m \u001b[0m\u001b[1mTopic ID\u001b[0m\u001b[1m \u001b[0m┃\u001b[1m \u001b[0m\u001b[1mTop 10 Words                                                                                        \u001b[0m\u001b[1m \u001b[0m┃\n",
       "┡━━━━━━━━━━╇━━━━━━━━━━━━━━━━━━━━━━━━━━━━━━━━━━━━━━━━━━━━━━━━━━━━━━━━━━━━━━━━━━━━━━━━━━━━━━━━━━━━━━━━━━━━━━━━━━━━━━┩\n",
       "│\u001b[34m \u001b[0m\u001b[34m       0\u001b[0m\u001b[34m \u001b[0m│\u001b[35m \u001b[0m\u001b[35mnhs, hospital, nursery, medical, health, nurse, newcastle, doctor, website, benefit                 \u001b[0m\u001b[35m \u001b[0m│\n",
       "├──────────┼──────────────────────────────────────────────────────────────────────────────────────────────────────┤\n",
       "│\u001b[34m \u001b[0m\u001b[34m       1\u001b[0m\u001b[34m \u001b[0m│\u001b[35m \u001b[0m\u001b[35maugust, september, available, year, date, price, early, yes, eligible, month                        \u001b[0m\u001b[35m \u001b[0m│\n",
       "├──────────┼──────────────────────────────────────────────────────────────────────────────────────────────────────┤\n",
       "│\u001b[34m \u001b[0m\u001b[34m       2\u001b[0m\u001b[34m \u001b[0m│\u001b[35m \u001b[0m\u001b[35magree, personally, downside, necessarily, satisfactorily, health, research, point, concern, effect  \u001b[0m\u001b[35m \u001b[0m│\n",
       "├──────────┼──────────────────────────────────────────────────────────────────────────────────────────────────────┤\n",
       "│\u001b[34m \u001b[0m\u001b[34m       3\u001b[0m\u001b[34m \u001b[0m│\u001b[35m \u001b[0m\u001b[35mnecessarily, consent, certain, fine, satisfactorily, withdraw, correctly, month, downside, august   \u001b[0m\u001b[35m \u001b[0m│\n",
       "├──────────┼──────────────────────────────────────────────────────────────────────────────────────────────────────┤\n",
       "│\u001b[34m \u001b[0m\u001b[34m       4\u001b[0m\u001b[34m \u001b[0m│\u001b[35m \u001b[0m\u001b[35mlaughter, happy, sound, sickness, audio, end, life, email, long, seriously                          \u001b[0m\u001b[35m \u001b[0m│\n",
       "├──────────┼──────────────────────────────────────────────────────────────────────────────────────────────────────┤\n",
       "│\u001b[34m \u001b[0m\u001b[34m       5\u001b[0m\u001b[34m \u001b[0m│\u001b[35m \u001b[0m\u001b[35mvaccine, vaccination, vaccinate, flu, participant, child, injection, virus, research, coronavirus   \u001b[0m\u001b[35m \u001b[0m│\n",
       "├──────────┼──────────────────────────────────────────────────────────────────────────────────────────────────────┤\n",
       "│\u001b[34m \u001b[0m\u001b[34m       6\u001b[0m\u001b[34m \u001b[0m│\u001b[35m \u001b[0m\u001b[35mchild, parent, daughter, childhood, nursery, adult, son, age, younger, kid                          \u001b[0m\u001b[35m \u001b[0m│\n",
       "├──────────┼──────────────────────────────────────────────────────────────────────────────────────────────────────┤\n",
       "│\u001b[34m \u001b[0m\u001b[34m       7\u001b[0m\u001b[34m \u001b[0m│\u001b[35m \u001b[0m\u001b[35mvaccine, vaccination, vaccinate, protect, injection, benefit, pick, think, quotation, option        \u001b[0m\u001b[35m \u001b[0m│\n",
       "├──────────┼──────────────────────────────────────────────────────────────────────────────────────────────────────┤\n",
       "│\u001b[34m \u001b[0m\u001b[34m       8\u001b[0m\u001b[34m \u001b[0m│\u001b[35m \u001b[0m\u001b[35mresearch, study, researcher, interview, evidence, publication, document, information, anonymize,    \u001b[0m\u001b[35m \u001b[0m│\n",
       "│\u001b[34m          \u001b[0m│\u001b[35m \u001b[0m\u001b[35memail                                                                                               \u001b[0m\u001b[35m \u001b[0m│\n",
       "├──────────┼──────────────────────────────────────────────────────────────────────────────────────────────────────┤\n",
       "│\u001b[34m \u001b[0m\u001b[34m       9\u001b[0m\u001b[34m \u001b[0m│\u001b[35m \u001b[0m\u001b[35mparticipant, participation, routine, conversation, interview, study, practice, appointment, group,  \u001b[0m\u001b[35m \u001b[0m│\n",
       "│\u001b[34m          \u001b[0m│\u001b[35m \u001b[0m\u001b[35mconsider                                                                                            \u001b[0m\u001b[35m \u001b[0m│\n",
       "└──────────┴──────────────────────────────────────────────────────────────────────────────────────────────────────┘\n"
      ]
     },
     "metadata": {},
     "output_type": "display_data"
    }
   ],
   "source": [
    "from turftopic import SemanticSignalSeparation\n",
    "\n",
    "model = SemanticSignalSeparation(10, encoder=\"all-MiniLM-L12-v2\")\n",
    "model.fit(processed_docs_all)\n",
    "\n",
    "model.print_topics()"
   ]
  },
  {
   "cell_type": "markdown",
   "id": "fb265a3e-9934-47f6-b418-2995a3c2dde1",
   "metadata": {},
   "source": [
    "#### OpenAI's GPT-3.5 based approach\n",
    "\n",
    "We use GPT-3.5 via OpenAI's API with system prompt `You are a helpful research assistant` and user prompt `Please tell me what themes are mentioned in the following interview transcript. Themes are short words or phrases that capture something important about the research topic and purpose as revealed in the interview.  Please categorise themes based on the COM-B model (capability, opportunity, and motivation), and identify barriers and facilitators.`\n",
    "\n"
   ]
  },
  {
   "cell_type": "code",
   "execution_count": null,
   "id": "81ac35f3-26b2-4ebe-bf40-77ba78e28adb",
   "metadata": {},
   "outputs": [],
   "source": [
    "%env OPENAI_API_KEY=xxx"
   ]
  },
  {
   "cell_type": "code",
   "execution_count": 23,
   "id": "77b2248f-eb03-4b0d-addf-bc62edc5facf",
   "metadata": {},
   "outputs": [
    {
     "name": "stdout",
     "output_type": "stream",
     "text": [
      ".\n",
      ".\n",
      ".\n",
      ".\n",
      ".\n",
      ".\n",
      ".\n",
      ".\n",
      ".\n",
      ".\n",
      ".\n",
      ".\n"
     ]
    }
   ],
   "source": [
    "import os\n",
    "#import wandb\n",
    "from openai import OpenAI\n",
    "client = OpenAI()\n",
    "\n",
    "#gpt_assistant_prompt = \"You are a \" + input (\"Who should I be, as I answer your prompt?\") \n",
    "#gpt_user_prompt = input (\"What prompt do you want me to do?\") \n",
    "\n",
    "#wandb.init()\n",
    "#prediction_table = wandb.Table(columns=[\"Prompt\", \"Response\", \"Tokens\", \"Max Tokens\", \"Frequency Penalty\", \"Temperature\"])\n",
    "\n",
    "identified_themes = []\n",
    "\n",
    "for doc in ds1['text']: \n",
    "    \n",
    "    gpt_assistant_prompt = \"You are a helpful research assistant. \"\n",
    "    gpt_user_prompt = '''Please tell me what themes are mentioned in the following interview transcript. \n",
    "                      Themes are short words or phrases that capture something important about the research topic and purpose as revealed in the interview. \n",
    "                      Please categorise themes based on the COM-B model (capability, opportunity, and motivation), and identify barriers and facilitators.'''\n",
    "    gpt_user_prompt = gpt_user_prompt + f'Transcript: \" {doc} \"'\n",
    "    \n",
    "    gpt_prompt = gpt_assistant_prompt, gpt_user_prompt\n",
    "    #print(gpt_prompt)\n",
    "    \n",
    "    message=[{\"role\": \"assistant\", \"content\": gpt_assistant_prompt}, {\"role\": \"user\", \"content\": gpt_user_prompt}]\n",
    "    temperature=0.2\n",
    "    max_tokens=1000\n",
    "    frequency_penalty=0.0\n",
    "    \n",
    "    response = client.chat.completions.create(\n",
    "        model=\"gpt-3.5-turbo\",#model=\"gpt-4\",\n",
    "        messages = message,\n",
    "        temperature=temperature,\n",
    "        max_tokens=max_tokens,\n",
    "        frequency_penalty=frequency_penalty\n",
    "    )\n",
    "    print(\".\")\n",
    "    response_text = response.choices[0].message.content\n",
    "    identified_themes.append(response_text)\n",
    "    #tokens_used = response.usage.total_tokens\n",
    "    #prediction_table.add_data(gpt_prompt, response_text, tokens_used, max_tokens, frequency_penalty, temperature)\n",
    "\n",
    "#wandb.log({'predictions': prediction_table})\n",
    "#wandb.finish()\n",
    "\n",
    "\n"
   ]
  },
  {
   "cell_type": "code",
   "execution_count": 24,
   "id": "ae59bea5-b69c-42da-b913-19e4e74f552f",
   "metadata": {},
   "outputs": [
    {
     "name": "stdout",
     "output_type": "stream",
     "text": [
      "[\"Themes identified in the interview transcript based on the COM-B model (capability, opportunity, and motivation) are as follows:\\n\\nCapability:\\n1. Understanding of the flu and flu vaccine: The participant demonstrates a good understanding of the flu, its symptoms, and the flu vaccine, including how it is chosen and administered.\\n2. Information-seeking behavior: The participant mentions using resources like the internet and health visitor's book for information on illnesses like the flu.\\n\\nOpportunity:\\n1. Access to healthcare professionals: The participant discusses the process of accessing healthcare professionals like GPs and health visitors for advice on vaccinations.\\n2. Barriers to vaccination: Personal circumstances, such as moving quickly and not having a new GP, are mentioned as barriers to accessing the flu vaccine for the participant's child.\\n\\nMotivation:\\n1. Concern for children's health: The participant expresses concern for their children's health, especially the older child with underlying health conditions, and discusses monitoring symptoms closely.\\n2. Positive attitude towards vaccination: The participant advocates for vaccinations and mentions that getting vaccinated is a routine decision for their family.\\n\\nBarriers:\\n1. Personal circumstances: Moving quickly and not having a new GP in the area are identified as barriers to accessing the flu vaccine for the participant's child.\\n2. Lack of information: The participant mentions not receiving answers from healthcare professionals regarding flu vaccination for their child due to personal circumstances.\\n\\nFacilitators:\\n1. Information-seeking behavior: The participant actively seeks information on illnesses like the flu through resources like the internet and health visitor's book.\\n2. Positive attitude towards vaccination: The participant has a positive attitude towards vaccinations and mentions that they would follow recommendations from healthcare professionals regarding flu vaccination for their child.\", \"Themes identified in the interview transcript based on the COM-B model:\\n\\nCapability:\\n1. Understanding of the study requirements and consent process\\n2. Knowledge about the flu and its symptoms\\n3. Awareness of the flu vaccine and its benefits\\n4. Decision-making process regarding routine vaccinations for the child\\n\\nOpportunity:\\n1. Access to information sources like the NHS website and GP for flu-related queries\\n2. Challenges in accessing the flu vaccine due to supply issues and timing\\n3. Importance of receiving routine vaccinations for the child\\n\\nMotivation:\\n1. Willingness to participate in the study and provide consent\\n2. Concern for the child's health and well-being\\n3. Prioritization of vaccinations for the child's health\\n4. Frustration with the process of accessing the flu vaccine\\n5. Personal experience with vaccinations and belief in their importance\\n\\nBarriers:\\n1. Supply issues and timing constraints for accessing the flu vaccine\\n2. Lack of information or communication regarding the flu vaccine availability\\n\\nFacilitators:\\n1. Access to reliable information sources like the NHS website and GP\\n2. Prior experience with routine vaccinations and belief in their importance\\n\\nOverall, the themes in the interview transcript highlight the participant's understanding, challenges, and motivations related to the flu vaccine and routine vaccinations for their child. The barriers and facilitators identified provide insights into the factors influencing their decision-making process regarding vaccination.\", \"Themes identified in the interview transcript based on the COM-B model:\\n\\nCapability:\\n- Informed consent process\\n- Understanding of flu and flu vaccine\\n- Knowledge of where to seek information about flu and vaccines\\n- Advocacy for daughter's vaccination\\n\\nOpportunity:\\n- Challenges in accessing flu vaccine for daughter\\n- Importance of collective protection through vaccination\\n- Influence of media and public discourse on vaccination decisions\\n- Communication with healthcare professionals about flu and vaccines\\n\\nMotivation:\\n- Concern for daughter's health and well-being\\n- Desire for daughter to be protected from flu\\n- Frustration with bureaucracy and supply issues related to flu vaccine\\n- Advocacy for vaccination as a civic duty and for public health benefits\\n\\nBarriers:\\n- Challenges in accessing flu vaccine for daughter due to supply issues and administrative hurdles\\n- Concerns about misinformation from mummy blogs and forums\\n- Family members' skepticism towards vaccines\\n\\nFacilitators:\\n- Knowledge of where to seek reliable information about flu and vaccines (NHS website)\\n- Advocacy for daughter's vaccination despite challenges\\n- Understanding of the importance of vaccination for collective protection and public health\\n\\nOverall, the interviewee demonstrates a strong motivation to protect her daughter and others through vaccination, faces barriers related to accessing the flu vaccine, and utilizes opportunities to seek reliable information and advocate for vaccination. The themes highlight the complex interplay of capability, opportunity, and motivation in the decision-making process regarding flu vaccination.\", \"Themes identified in the interview transcript based on the COM-B model are as follows:\\n\\nCapability:\\n- Consent process: The participant demonstrates the capability to understand and agree to the consent process for the study.\\n- Understanding of flu symptoms: The participant shows capability in recognizing flu symptoms in children and understanding the importance of monitoring their health.\\n\\nOpportunity:\\n- Access to vaccination: The participant had the opportunity to get their child vaccinated for the flu, facilitated by the school and GP practice.\\n- Information sources: The participant utilized online resources and discussions with other parents to gather information about vaccinations.\\n\\nMotivation:\\n- Concern for family health: The participant's motivation for getting vaccinated and vaccinating their child stems from a desire to protect the family from flu and its potential consequences.\\n- Research and decision-making: The participant's motivation to research and make informed decisions about vaccinations, considering risks and benefits.\\n\\nBarriers:\\n- Initial reservations about MMR vaccine: The participant had reservations about the MMR vaccine due to concerns about side effects and autism, leading to delayed vaccination.\\n- Reaction to MMR vaccine: The participant's child had a reaction to the MMR vaccine, causing temporary muscle weakness, which could be seen as a barrier to future vaccinations.\\n\\nFacilitators:\\n- Family support: The participant's husband's support and proactive approach to vaccination influenced the participant's decision to get vaccinated.\\n- Access to healthcare professionals: Interaction with practice nurses and GP practice facilitated the vaccination process and provided information about vaccines.\\n\\nOverall, the themes highlight the participant's proactive approach to vaccination, the importance of family health, and the role of information sources and healthcare professionals in decision-making. The barriers and facilitators identified offer insights into the factors influencing vaccination decisions and experiences.\", \"Themes identified in the interview transcript based on the COM-B model:\\n\\nCapability:\\n- Understanding of the flu and its symptoms\\n- Knowledge about the flu vaccine and its benefits\\n- Experience with managing allergies and seeking medical advice\\n\\nOpportunity:\\n- Access to flu vaccination clinics\\n- Logistics and scheduling challenges in getting children vaccinated\\n- Use of online resources like the NHS website for health information\\n\\nMotivation:\\n- Concern for children's health and well-being\\n- Desire to protect vulnerable individuals from the flu\\n- Trust in medical professionals, especially specialists in allergy care\\n\\nBarriers:\\n- Inconvenience and scheduling conflicts in accessing flu vaccination clinics\\n- Conflicting information about flu vaccine and allergies from different sources\\n- Lack of awareness about the importance of flu vaccination for children\\n\\nFacilitators:\\n- Trust in medical specialists and their advice\\n- Positive past experiences with routine childhood vaccinations\\n- Willingness to receive the flu vaccine personally\\n\\nOverall, the interviewee demonstrated a strong motivation to protect their children's health and a willingness to engage with healthcare professionals for advice and guidance. The barriers identified mainly revolve around logistical challenges and conflicting information, highlighting the importance of clear communication and accessible healthcare services.\", \"Themes based on the COM-B model:\\n\\nCapability:\\n1. Understanding of the flu and its severity\\n2. Knowledge about the flu vaccine and its benefits\\n3. Trust in medical professionals and institutions\\n\\nOpportunity:\\n1. Access to information about the flu vaccine through the NHS website\\n2. Availability of the flu vaccine for children\\n3. Ease of scheduling and receiving the flu vaccine\\n\\nMotivation:\\n1. Concern for child's health and well-being\\n2. Trust in vaccination and medical experts\\n3. Personal experience with vaccinations and healthcare professionals\\n\\nBarriers:\\n1. Fear or discomfort associated with injections for the child\\n2. Limited knowledge about specific aspects of the flu and flu vaccine\\n\\nFacilitators:\\n1. Trust in medical professionals and institutions\\n2. Convenience and simplicity of the vaccination process\\n3. Family background in healthcare influencing attitudes towards vaccinations\\n\\nOverall, the themes in the interview transcript highlight the importance of understanding, trust, and access in influencing attitudes and behaviors towards the flu vaccine for children.\", \"Themes identified in the interview transcript based on the COM-B model:\\n\\nCapability:\\n- Understanding of the flu and flu vaccine: Participant shows knowledge and understanding of the flu, symptoms, and the importance of vaccination.\\n- Decision-making process: Participant discusses how they gather information from reliable sources like the NHS website and peers to make informed decisions about vaccination.\\n- Trust in medical institutions: Participant trusts the NHS and medical professionals when it comes to vaccination decisions.\\n\\nOpportunity:\\n- Access to information: Participant mentions using the internet and NHS website to access information about the flu and vaccines.\\n- Social support: Participant refers to a support group of NCT friends for discussions about vaccination decisions.\\n- Healthcare access: Participant mentions interactions with healthcare professionals like nurses and GPs for routine childhood vaccinations.\\n\\nMotivation:\\n- Concern for child's health: Participant expresses concern for their child's health and well-being, especially in relation to exposure to infectious diseases like the flu.\\n- Trust in science and vaccination: Participant demonstrates a positive attitude towards vaccination, trusting in the science behind vaccines and the benefits they provide.\\n- Desire for information: Participant expresses interest in educating themselves further about the risks and benefits of flu vaccination for young children.\\n\\nBarriers:\\n- Frustration with eligibility criteria: Participant expresses frustration with the age eligibility criteria for the flu vaccine, feeling that their child should have been eligible due to exposure in childcare settings.\\n- Limited access to healthcare professionals: Participant mentions not having discussions with GPs or medical professionals specifically about the flu vaccine for their child.\\n\\nFacilitators:\\n- Trust in the NHS: Participant shows confidence in the NHS as a reliable source of information and guidance for vaccination decisions.\\n- Social support: Participant values discussions with peers and support groups for sharing experiences and information about vaccination.\\n- Positive past experiences: Participant's positive experiences with routine childhood vaccinations and flu vaccination during pregnancy influence their attitudes towards vaccination.\\n\\nOverall, the themes in the interview transcript highlight the importance of knowledge, access to information, social support, trust in medical institutions, and motivation in shaping vaccination decisions and attitudes towards the flu vaccine.\", \"Themes identified in the interview transcript based on the COM-B model:\\n\\nCapability:\\n1. Understanding of the flu symptoms and vaccine: Participant 09 demonstrates knowledge about the flu symptoms and the purpose of the flu vaccine.\\n2. Information-seeking behavior: Participant 09 mentions using reputable sources like the NHS, CDC, and WHO to gather information about illnesses and vaccines.\\n3. Trust in medical science: Participant 09 and their spouse have faith in the safety and efficacy of vaccinations, indicating a belief in the capability of vaccines to protect against diseases.\\n\\nOpportunity:\\n1. Access to healthcare services: Participant 09 mentions receiving a letter from the NHS about flu vaccination eligibility and finding the process of getting their children vaccinated to be straightforward.\\n2. Availability of information: Participant 09 has access to online resources and healthcare professionals to learn about flu symptoms, treatment options, and vaccine recommendations.\\n\\nMotivation:\\n1. Concern for children's health: Participant 09 expresses a desire to protect their children from serious illnesses by getting them vaccinated.\\n2. Risk mitigation: Participant 09 views vaccination as a way to mitigate the risk of their children falling seriously ill from the flu.\\n3. Trust in research and evidence: Participant 09's decision to vaccinate their children is influenced by their spouse's research background and their own trust in scientific evidence.\\n\\nBarriers:\\n1. Limited personal experience with the flu: Participant 09 mentions not knowing anyone whose children have had the flu, which may impact their perception of the severity of the illness.\\n2. Lack of personal involvement in vaccination decision-making: Participant 09 defers to their spouse, who is a research scientist, for information and decision-making regarding vaccinations.\\n\\nFacilitators:\\n1. Trust in healthcare professionals: Participant 09 mentions consulting with medical professionals when needed, indicating a willingness to seek expert advice on health-related matters.\\n2. Easy access to vaccination services: Participant 09 finds the process of getting their children vaccinated to be convenient and straightforward, suggesting a positive experience with healthcare services.\", \"Themes identified in the interview transcript based on the COM-B model:\\n\\nCapability:\\n- Understanding of the consent process and study information\\n- Knowledge about the flu and flu vaccine\\n- Decision-making process for child vaccinations\\n\\nOpportunity:\\n- Scheduling constraints for flu vaccine appointments\\n- Limited access to convenient clinic timings\\n- Information sources for learning about vaccinations\\n\\nMotivation:\\n- Trust in healthcare professionals for vaccination decisions\\n- Acceptance of vaccinations as beneficial for children's health\\n- Lack of personal concern about flu due to perceived low severity\\n\\nBarriers:\\n- Scheduling conflicts for flu vaccine appointments\\n- Limited access to convenient clinic timings\\n- Lack of personal knowledge or prior experience with the flu\\n\\nFacilitators:\\n- Trust in healthcare professionals for vaccination decisions\\n- Acceptance of vaccinations as beneficial for children's health\\n- Willingness to learn more about the flu and vaccination after the interview\\n\\nOverall, the participant demonstrated a willingness to prioritize their child's health by considering future flu vaccinations and seeking more information about the topic. The barriers of scheduling conflicts and limited access to convenient clinic timings were key factors influencing their decision-making process. Trust in healthcare professionals and acceptance of vaccinations as beneficial were facilitators in their motivation to consider vaccinations for their children.\", \"Themes identified in the interview transcript based on the COM-B model (capability, opportunity, and motivation) are as follows:\\n\\nCapability:\\n- Consent process: The participant demonstrates the capability to understand and provide consent for the flu vaccine for their child.\\n- Knowledge about flu: The participant shares their knowledge about the flu based on personal experiences and family background in nursing.\\n\\nOpportunity:\\n- Access to healthcare: The participant discusses the process of scheduling and receiving the flu vaccine for their child through the GP practice.\\n- Information sources: The participant mentions using trusted sources like NHS and Mayo Clinic for health information and vaccines.\\n\\nMotivation:\\n- Concern for child's well-being: The participant expresses a strong motivation to protect their child from the flu by ensuring they receive the vaccine.\\n- Awareness of flu severity: The participant's motivation to vaccinate their child is influenced by the perceived severity of the flu season, especially after hearing about the impact in Australia.\\n\\nBarriers:\\n- Difficulty in accessing the flu vaccine: The participant faced challenges in getting the flu vaccine for their child due to shortages and delays in scheduling appointments.\\n- Communication with healthcare providers: The participant highlights challenges in having open conversations with GPs about vaccines and feeling judged for asking questions.\\n\\nFacilitators:\\n- Family support: The participant relies on family members, particularly those with nursing backgrounds, for information and advice on vaccines.\\n- Research skills: The participant's background in research helps them navigate health information sources and make informed decisions about vaccines.\\n\\nOverall, the participant's decision-making process regarding the flu vaccine for their child is influenced by a combination of capability, opportunity, and motivation factors, with barriers related to access and communication with healthcare providers, and facilitators including family support and research skills.\", \"Themes identified in the interview transcript based on the COM-B model (capability, opportunity, and motivation) are as follows:\\n\\nCapability:\\n- Understanding of the importance of vaccinations and public health measures\\n- Knowledge about the flu vaccine and its benefits\\n- Awareness of the impact of respiratory illnesses on vulnerable populations\\n\\nOpportunity:\\n- Access to healthcare services for vaccination appointments\\n- Support from family members for childcare during appointments\\n- Utilization of online resources like NHS websites for health information\\n\\nMotivation:\\n- Intrinsic motivation to protect children's health and well-being\\n- Professional motivation as a public health worker to lead by example\\n- Concern for the wider community and the importance of herd immunity\\n\\nBarriers:\\n- Inconvenience of scheduling and attending vaccination appointments\\n- Lack of urgency in prioritizing vaccination due to perceived low risk\\n- Potential misinformation and conspiracy theories about vaccines\\n\\nFacilitators:\\n- Reminder letters from healthcare providers for vaccination appointments\\n- Supportive family members for childcare during appointments\\n- Positive experiences with previous vaccinations and healthcare professionals\\n\\nOverall, the interviewee demonstrates a strong understanding of the importance of vaccinations, particularly the flu vaccine, and highlights the need for continued promotion and education to address barriers and encourage uptake in the community.\", 'Themes identified in the interview transcript based on the COM-B model are as follows:\\n\\nCapability:\\n- Understanding of the flu and its symptoms\\n- Knowledge of the benefits and risks of vaccination\\n- Trust in medical professionals and official health sources\\n\\nOpportunity:\\n- Access to information through NHS websites and official health sources\\n- Availability of vaccinations through school programs and GP visits\\n- Engagement with online parenting groups for additional information and advice\\n\\nMotivation:\\n- Concern for the well-being of children and family members\\n- Social responsibility towards protecting others through vaccination\\n- Trust in the effectiveness and safety of vaccines\\n\\nBarriers:\\n- Lack of awareness or information about the flu vaccine for the younger child\\n- Delay in receiving recommended vaccinations due to healthcare system backlog\\n- Uncertainty and concerns about potential side effects of new vaccines\\n\\nFacilitators:\\n- Trust in medical professionals and official health guidelines\\n- Willingness to protect children and family members through vaccination\\n- Engagement with online parenting communities for support and advice\\n\\nOverall, the interviewee demonstrates a strong motivation to protect their children and family members through vaccination, while also expressing concerns about the safety and effectiveness of new vaccines. They rely on trusted sources of information and seek advice from online communities to make informed decisions about healthcare for their family.']\n",
      ".\n",
      "Based on the themes identified in the interview transcripts, the core set of key repeating themes according to the COM-B model can be summarized as follows:\n",
      "\n",
      "Capability:\n",
      "- Understanding and knowledge about the flu, flu vaccine, and vaccination process\n",
      "- Information-seeking behavior to gather information from reliable sources\n",
      "- Trust in medical professionals and healthcare institutions for guidance on vaccinations\n",
      "\n",
      "Opportunity:\n",
      "- Access to healthcare services and information sources for flu-related queries\n",
      "- Challenges in accessing the flu vaccine due to supply issues and scheduling conflicts\n",
      "- Utilization of online resources and engagement with healthcare professionals for vaccination decisions\n",
      "\n",
      "Motivation:\n",
      "- Concern for children's health and well-being, especially in relation to flu and underlying health conditions\n",
      "- Positive attitude towards vaccinations and belief in their importance for individual and public health\n",
      "- Desire to protect family members and the wider community through vaccination\n",
      "\n",
      "Barriers:\n",
      "- Personal circumstances like moving quickly and lack of information affecting access to the flu vaccine\n",
      "- Limited awareness or misinformation about vaccines from various sources\n",
      "- Scheduling conflicts and delays hindering the vaccination process\n",
      "\n",
      "Facilitators:\n",
      "- Trust in healthcare professionals and reliable information sources for vaccination decisions\n",
      "- Support from family members and online communities for advice and guidance\n",
      "- Positive past experiences with routine vaccinations influencing attitudes towards flu vaccination\n",
      "\n",
      "Overall, the themes highlight the interplay of capability, opportunity, and motivation in shaping attitudes and behaviors towards the flu vaccine, with barriers and facilitators influencing the decision-making process. The participant's proactive approach, concerns for family health, and reliance on trusted sources of information and support are key factors in understanding their vaccination decisions.\n"
     ]
    }
   ],
   "source": [
    "print(identified_themes)\n",
    "\n",
    "gpt_assistant_prompt = \"You are a helpful research assistant. \"\n",
    "gpt_user_prompt = \"Please integrate and summarise the following themes that have been identified in interview transcripts into a core set of key repeating themes, according to the COM-B model. Themes are short words or phrases that capture something important about the research topic and purpose as revealed in the interview.\"\n",
    "gpt_user_prompt = gpt_user_prompt + f'Identified themes \" {\" \".join(identified_themes)} \"'\n",
    "    \n",
    "gpt_prompt = gpt_assistant_prompt, gpt_user_prompt\n",
    "    \n",
    "message=[{\"role\": \"assistant\", \"content\": gpt_assistant_prompt}, {\"role\": \"user\", \"content\": gpt_user_prompt}]\n",
    "temperature=0.2\n",
    "max_tokens=1000\n",
    "frequency_penalty=0.0\n",
    "    \n",
    "response = client.chat.completions.create(\n",
    "    model=\"gpt-3.5-turbo\",#model=\"gpt-4\",\n",
    "    messages = message,\n",
    "    temperature=temperature,\n",
    "    max_tokens=max_tokens,\n",
    "    frequency_penalty=frequency_penalty\n",
    ")\n",
    "print(\".\")\n",
    "response_text = response.choices[0].message.content\n",
    "\n",
    "print(response_text)\n"
   ]
  }
 ],
 "metadata": {
  "kernelspec": {
   "display_name": "Python 3 (ipykernel)",
   "language": "python",
   "name": "python3"
  },
  "language_info": {
   "codemirror_mode": {
    "name": "ipython",
    "version": 3
   },
   "file_extension": ".py",
   "mimetype": "text/x-python",
   "name": "python",
   "nbconvert_exporter": "python",
   "pygments_lexer": "ipython3",
   "version": "3.12.2"
  }
 },
 "nbformat": 4,
 "nbformat_minor": 5
}
