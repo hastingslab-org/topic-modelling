{
 "cells": [
  {
   "cell_type": "markdown",
   "id": "972f75a3-8cf1-4a9f-a270-769cf0ea60da",
   "metadata": {},
   "source": [
    "### MIE 2024 Submission - Topic Modelling \n",
    "\n",
    "#### J. Hastings and M. Wosny\n",
    "\n",
    "\n",
    "We evaluate the behaviour of topic modelling approaches on qualitative interview datasets with relevance to healthcare research. \n",
    "\n"
   ]
  },
  {
   "cell_type": "markdown",
   "id": "f36121c7-979f-4231-aa76-2c0e59451040",
   "metadata": {},
   "source": [
    "#### Datasets\n",
    "\n",
    "We load two different datasets: \n",
    "- Newcastle perspectives on flu and vaccination\n",
    "- Extracts from our own study of clinician perspectives on digitalisation in hospitals\n",
    "\n"
   ]
  },
  {
   "cell_type": "code",
   "execution_count": 1,
   "id": "7e880b85-60a7-428a-a434-f4ff87942d84",
   "metadata": {},
   "outputs": [
    {
     "data": {
      "text/plain": [
       "Dataset({\n",
       "    features: ['text'],\n",
       "    num_rows: 12\n",
       "})"
      ]
     },
     "execution_count": 1,
     "metadata": {},
     "output_type": "execute_result"
    }
   ],
   "source": [
    "from datasets import load_dataset\n",
    "\n",
    "ds1 = load_dataset(\"text\", data_dir=\"~/Work/Python/hastingslab-aitools/topic-modelling/datasets/health-promotion-interviews-newcastle/txt/\", sample_by=\"document\",split='train') # sample_by=\"paragraph\",\n",
    "\n",
    "ds1"
   ]
  },
  {
   "cell_type": "markdown",
   "id": "96db013e-ccc8-4aaf-b6dd-3d147f1f8d2d",
   "metadata": {},
   "source": [
    "### LSA approach\n",
    "\n",
    "We implement a latent semantic analysis as an exemplar of traditional topic modeling approaches"
   ]
  },
  {
   "cell_type": "code",
   "execution_count": 2,
   "id": "a87901ee-f077-41ae-aba4-2c8c873d5cfd",
   "metadata": {},
   "outputs": [],
   "source": [
    "import spacy\n",
    "import os\n",
    "import numpy as np\n",
    "from sklearn.feature_extraction.text import TfidfVectorizer\n",
    "from sklearn.decomposition import TruncatedSVD\n",
    "import matplotlib.pyplot as plt\n",
    "from nltk.corpus import stopwords\n",
    "\n",
    "# Load spaCy model for English\n",
    "nlp = spacy.load(\"en_core_web_sm\")\n",
    "\n",
    "# Preprocessing and stopwords for the English language\n",
    "processed_docs_all = []\n",
    "\n",
    "stopwords = set(['probably', 'simply', 'exactly', 'bit', 'tell', 'okay', 'datum', 'stadt', 'yeah','look','um','like','sure'])\n",
    "\n",
    "for text in ds1['text']:\n",
    "    # Remove occurrences of stopwrods\n",
    "    text_without_okay = ' '.join([word for word in text.split() if word.lower() not in stopwords])\n",
    "\n",
    "    processed_doc = ' '.join([token.lemma_ for token in nlp(text_without_okay) if not token.is_stop\n",
    "                              and token.is_alpha and token.lemma_ not in stopwords])\n",
    "    processed_docs_all.append(processed_doc)"
   ]
  },
  {
   "cell_type": "code",
   "execution_count": 3,
   "id": "0f4ca260-7496-495b-aee2-ad48e216d63c",
   "metadata": {},
   "outputs": [
    {
     "name": "stdout",
     "output_type": "stream",
     "text": [
      "Topic 1: feel, come, obviously, younger, school, guess, nhs, health, kid, interesting, oh, young, speak, happen, ill, effect, letter, appointment, remember, cold\n",
      "\n",
      "Topic 2: wife, straightforward, pretty, faith, obviously, seek, letter, beneficial, medical, website, uk, alright, important, garden, world, certainly, scientist, correct, science, text\n",
      "\n",
      "Topic 3: son, team, specialist, daughter, health, blood, problem, visitor, today, unwell, advice, help, form, june, allergic, particularly, eat, play, laughter, necessarily\n",
      "\n",
      "Topic 4: daughter, feel, season, jab, guess, mind, issue, definitely, book, covid, come, friend, protect, vulnerable, mainly, strain, immunization, outbreak, public, importance\n",
      "\n",
      "Topic 5: son, specialist, team, unwell, phone, faith, available, guess, come, organize, clinic, arrange, word, medical, ah, beneficial, bear, food, reception, trust\n",
      "\n",
      "Topic 6: practice, guess, concerned, invite, try, cost, rest, fear, speak, provide, important, mention, correct, contact, ring, winter, recover, occur, avoid, experience\n",
      "\n",
      "Topic 7: blood, age, discuss, versus, guess, necessarily, cell, circumstance, particularly, understanding, community, wise, calpol, nurse, affect, term, body, red, cost, laughter\n",
      "\n",
      "Topic 8: honest, hour, practice, course, ago, appointment, straight, nasal, injection, faith, beneficial, ah, unwell, experience, week, nursery, jab, spray, school, provide\n",
      "\n",
      "Topic 9: accept, expert, book, mind, suppose, daughter, ill, immunize, chest, beneficial, faith, immunization, small, visitor, night, speak, pneumonia, happen, important, specific\n",
      "\n",
      "Topic 10: massive, stuff, poorly, ill, somebody, faith, beneficial, young, base, trust, interesting, situation, parent, check, birth, straight, coronavirus, medical, wish, awful\n",
      "\n"
     ]
    }
   ],
   "source": [
    "# Vectorize the text data using TF-IDF\n",
    "vectorizer = TfidfVectorizer(max_df=0.95, min_df=2, stop_words='english')\n",
    "\n",
    "tfidf_data = vectorizer.fit_transform(processed_docs_all)\n",
    "\n",
    "# Define the number of topics (or components in LSA)\n",
    "n_topics = 10\n",
    "\n",
    "# Create a Truncated SVD (LSA) model\n",
    "lsa = TruncatedSVD(n_components=n_topics, random_state=42)\n",
    "\n",
    "# Fit the model to the TF-IDF data\n",
    "lsa.fit(tfidf_data)\n",
    "\n",
    "# Transform the TF-IDF data using the fitted LSA model\n",
    "lsa_topic_matrix = lsa.transform(tfidf_data)\n",
    "\n",
    "# Number of top words per topic\n",
    "num_top_words = 20\n",
    "    \n",
    "# Print the top 20 words for each topic\n",
    "feature_names = np.array(vectorizer.get_feature_names_out())\n",
    "for topic_idx, topic in enumerate(lsa.components_):\n",
    "    top_words_idx = topic.argsort()[:-num_top_words-1:-1]\n",
    "    top_words = feature_names[top_words_idx]\n",
    "    print(f\"Topic {topic_idx + 1}: {', '.join(top_words)}\\n\")"
   ]
  },
  {
   "cell_type": "markdown",
   "id": "9a55d951-ccf9-4fb2-b91b-23aecebb7bc1",
   "metadata": {},
   "source": [
    "### Semantic Signal Separation\n",
    "\n",
    "We compare the above topics to the results of using a small language-model based approach, Semantic Signal Separation\n"
   ]
  },
  {
   "cell_type": "code",
   "execution_count": 6,
   "id": "11e7eee6-05c5-499a-ab9a-5a0c65c5140e",
   "metadata": {},
   "outputs": [
    {
     "data": {
      "text/html": [
       "<pre style=\"white-space:pre;overflow-x:auto;line-height:normal;font-family:Menlo,'DejaVu Sans Mono',consolas,'Courier New',monospace\"><span style=\"color: #7fbfbf; text-decoration-color: #7fbfbf\">[11:20:05] </span>Documents encoded.                                                                          <a href=\"file:///opt/miniconda3/envs/llms/lib/python3.12/site-packages/turftopic/models/decomp.py\" target=\"_blank\"><span style=\"color: #7f7f7f; text-decoration-color: #7f7f7f\">decomp.py</span></a><span style=\"color: #7f7f7f; text-decoration-color: #7f7f7f\">:</span><a href=\"file:///opt/miniconda3/envs/llms/lib/python3.12/site-packages/turftopic/models/decomp.py#75\" target=\"_blank\"><span style=\"color: #7f7f7f; text-decoration-color: #7f7f7f\">75</span></a>\n",
       "</pre>\n"
      ],
      "text/plain": [
       "\u001b[2;36m[11:20:05]\u001b[0m\u001b[2;36m \u001b[0mDocuments encoded.                                                                          \u001b]8;id=602423;file:///opt/miniconda3/envs/llms/lib/python3.12/site-packages/turftopic/models/decomp.py\u001b\\\u001b[2mdecomp.py\u001b[0m\u001b]8;;\u001b\\\u001b[2m:\u001b[0m\u001b]8;id=117961;file:///opt/miniconda3/envs/llms/lib/python3.12/site-packages/turftopic/models/decomp.py#75\u001b\\\u001b[2m75\u001b[0m\u001b]8;;\u001b\\\n"
      ]
     },
     "metadata": {},
     "output_type": "display_data"
    },
    {
     "data": {
      "text/html": [
       "<pre style=\"white-space:pre;overflow-x:auto;line-height:normal;font-family:Menlo,'DejaVu Sans Mono',consolas,'Courier New',monospace\"><span style=\"color: #7fbfbf; text-decoration-color: #7fbfbf\">           </span>Decomposition done.                                                                         <a href=\"file:///opt/miniconda3/envs/llms/lib/python3.12/site-packages/turftopic/models/decomp.py\" target=\"_blank\"><span style=\"color: #7f7f7f; text-decoration-color: #7f7f7f\">decomp.py</span></a><span style=\"color: #7f7f7f; text-decoration-color: #7f7f7f\">:</span><a href=\"file:///opt/miniconda3/envs/llms/lib/python3.12/site-packages/turftopic/models/decomp.py#78\" target=\"_blank\"><span style=\"color: #7f7f7f; text-decoration-color: #7f7f7f\">78</span></a>\n",
       "</pre>\n"
      ],
      "text/plain": [
       "\u001b[2;36m          \u001b[0m\u001b[2;36m \u001b[0mDecomposition done.                                                                         \u001b]8;id=72865;file:///opt/miniconda3/envs/llms/lib/python3.12/site-packages/turftopic/models/decomp.py\u001b\\\u001b[2mdecomp.py\u001b[0m\u001b]8;;\u001b\\\u001b[2m:\u001b[0m\u001b]8;id=49668;file:///opt/miniconda3/envs/llms/lib/python3.12/site-packages/turftopic/models/decomp.py#78\u001b\\\u001b[2m78\u001b[0m\u001b]8;;\u001b\\\n"
      ]
     },
     "metadata": {},
     "output_type": "display_data"
    },
    {
     "data": {
      "application/vnd.jupyter.widget-view+json": {
       "model_id": "",
       "version_major": 2,
       "version_minor": 0
      },
      "text/plain": [
       "Output()"
      ]
     },
     "metadata": {},
     "output_type": "display_data"
    },
    {
     "data": {
      "text/html": [
       "<pre style=\"white-space:pre;overflow-x:auto;line-height:normal;font-family:Menlo,'DejaVu Sans Mono',consolas,'Courier New',monospace\"><span style=\"color: #7fbfbf; text-decoration-color: #7fbfbf\">           </span>Term extraction done.                                                                       <a href=\"file:///opt/miniconda3/envs/llms/lib/python3.12/site-packages/turftopic/models/decomp.py\" target=\"_blank\"><span style=\"color: #7f7f7f; text-decoration-color: #7f7f7f\">decomp.py</span></a><span style=\"color: #7f7f7f; text-decoration-color: #7f7f7f\">:</span><a href=\"file:///opt/miniconda3/envs/llms/lib/python3.12/site-packages/turftopic/models/decomp.py#81\" target=\"_blank\"><span style=\"color: #7f7f7f; text-decoration-color: #7f7f7f\">81</span></a>\n",
       "</pre>\n"
      ],
      "text/plain": [
       "\u001b[2;36m          \u001b[0m\u001b[2;36m \u001b[0mTerm extraction done.                                                                       \u001b]8;id=405659;file:///opt/miniconda3/envs/llms/lib/python3.12/site-packages/turftopic/models/decomp.py\u001b\\\u001b[2mdecomp.py\u001b[0m\u001b]8;;\u001b\\\u001b[2m:\u001b[0m\u001b]8;id=289028;file:///opt/miniconda3/envs/llms/lib/python3.12/site-packages/turftopic/models/decomp.py#81\u001b\\\u001b[2m81\u001b[0m\u001b]8;;\u001b\\\n"
      ]
     },
     "metadata": {},
     "output_type": "display_data"
    },
    {
     "data": {
      "text/html": [
       "<pre style=\"white-space:pre;overflow-x:auto;line-height:normal;font-family:Menlo,'DejaVu Sans Mono',consolas,'Courier New',monospace\"><span style=\"color: #7fbfbf; text-decoration-color: #7fbfbf\">           </span>Vocabulary encoded.                                                                         <a href=\"file:///opt/miniconda3/envs/llms/lib/python3.12/site-packages/turftopic/models/decomp.py\" target=\"_blank\"><span style=\"color: #7f7f7f; text-decoration-color: #7f7f7f\">decomp.py</span></a><span style=\"color: #7f7f7f; text-decoration-color: #7f7f7f\">:</span><a href=\"file:///opt/miniconda3/envs/llms/lib/python3.12/site-packages/turftopic/models/decomp.py#84\" target=\"_blank\"><span style=\"color: #7f7f7f; text-decoration-color: #7f7f7f\">84</span></a>\n",
       "</pre>\n"
      ],
      "text/plain": [
       "\u001b[2;36m          \u001b[0m\u001b[2;36m \u001b[0mVocabulary encoded.                                                                         \u001b]8;id=654692;file:///opt/miniconda3/envs/llms/lib/python3.12/site-packages/turftopic/models/decomp.py\u001b\\\u001b[2mdecomp.py\u001b[0m\u001b]8;;\u001b\\\u001b[2m:\u001b[0m\u001b]8;id=293568;file:///opt/miniconda3/envs/llms/lib/python3.12/site-packages/turftopic/models/decomp.py#84\u001b\\\u001b[2m84\u001b[0m\u001b]8;;\u001b\\\n"
      ]
     },
     "metadata": {},
     "output_type": "display_data"
    },
    {
     "data": {
      "text/html": [
       "<pre style=\"white-space:pre;overflow-x:auto;line-height:normal;font-family:Menlo,'DejaVu Sans Mono',consolas,'Courier New',monospace\"><span style=\"color: #7fbfbf; text-decoration-color: #7fbfbf\">           </span>Model fitting done.                                                                         <a href=\"file:///opt/miniconda3/envs/llms/lib/python3.12/site-packages/turftopic/models/decomp.py\" target=\"_blank\"><span style=\"color: #7f7f7f; text-decoration-color: #7f7f7f\">decomp.py</span></a><span style=\"color: #7f7f7f; text-decoration-color: #7f7f7f\">:</span><a href=\"file:///opt/miniconda3/envs/llms/lib/python3.12/site-packages/turftopic/models/decomp.py#88\" target=\"_blank\"><span style=\"color: #7f7f7f; text-decoration-color: #7f7f7f\">88</span></a>\n",
       "</pre>\n"
      ],
      "text/plain": [
       "\u001b[2;36m          \u001b[0m\u001b[2;36m \u001b[0mModel fitting done.                                                                         \u001b]8;id=582492;file:///opt/miniconda3/envs/llms/lib/python3.12/site-packages/turftopic/models/decomp.py\u001b\\\u001b[2mdecomp.py\u001b[0m\u001b]8;;\u001b\\\u001b[2m:\u001b[0m\u001b]8;id=911956;file:///opt/miniconda3/envs/llms/lib/python3.12/site-packages/turftopic/models/decomp.py#88\u001b\\\u001b[2m88\u001b[0m\u001b]8;;\u001b\\\n"
      ]
     },
     "metadata": {},
     "output_type": "display_data"
    },
    {
     "data": {
      "text/html": [
       "<pre style=\"white-space:pre;overflow-x:auto;line-height:normal;font-family:Menlo,'DejaVu Sans Mono',consolas,'Courier New',monospace\"></pre>\n"
      ],
      "text/plain": []
     },
     "metadata": {},
     "output_type": "display_data"
    },
    {
     "data": {
      "text/html": [
       "<pre style=\"white-space:pre;overflow-x:auto;line-height:normal;font-family:Menlo,'DejaVu Sans Mono',consolas,'Courier New',monospace\">┏━━━━━━━━━━┳━━━━━━━━━━━━━━━━━━━━━━━━━━━━━━━━━━━━━━━━━━━━━━━━━━━━━━━━━━━━━━━━━━━━━━━━━━━━━━━━━━━━━━━━━━━━━━━━━━━━━━┓\n",
       "┃<span style=\"font-weight: bold\"> Topic ID </span>┃<span style=\"font-weight: bold\"> Top 10 Words                                                                                         </span>┃\n",
       "┡━━━━━━━━━━╇━━━━━━━━━━━━━━━━━━━━━━━━━━━━━━━━━━━━━━━━━━━━━━━━━━━━━━━━━━━━━━━━━━━━━━━━━━━━━━━━━━━━━━━━━━━━━━━━━━━━━━┩\n",
       "│<span style=\"color: #000080; text-decoration-color: #000080\">        0 </span>│<span style=\"color: #800080; text-decoration-color: #800080\"> university, newcastle, study, teaching, interview, withdraw, copy, researcher, gp, finding           </span>│\n",
       "├──────────┼──────────────────────────────────────────────────────────────────────────────────────────────────────┤\n",
       "│<span style=\"color: #000080; text-decoration-color: #000080\">        1 </span>│<span style=\"color: #800080; text-decoration-color: #800080\"> read, research, publication, satisfactorily, sheet, important, document, yes, voluntary, consent     </span>│\n",
       "├──────────┼──────────────────────────────────────────────────────────────────────────────────────────────────────┤\n",
       "│<span style=\"color: #000080; text-decoration-color: #000080\">        2 </span>│<span style=\"color: #800080; text-decoration-color: #800080\"> researcher, anonymize, quotation, publication, type, identifiable, research, university, mean,       </span>│\n",
       "│<span style=\"color: #000080; text-decoration-color: #000080\">          </span>│<span style=\"color: #800080; text-decoration-color: #800080\"> individual                                                                                           </span>│\n",
       "├──────────┼──────────────────────────────────────────────────────────────────────────────────────────────────────┤\n",
       "│<span style=\"color: #000080; text-decoration-color: #000080\">        3 </span>│<span style=\"color: #800080; text-decoration-color: #800080\"> participant, free, price, process, kind, professional, type, stuff, people, thing                    </span>│\n",
       "├──────────┼──────────────────────────────────────────────────────────────────────────────────────────────────────┤\n",
       "│<span style=\"color: #000080; text-decoration-color: #000080\">        4 </span>│<span style=\"color: #800080; text-decoration-color: #800080\"> price, kind, thing, identifiable, copy, receive, document, free, fine, important                     </span>│\n",
       "├──────────┼──────────────────────────────────────────────────────────────────────────────────────────────────────┤\n",
       "│<span style=\"color: #000080; text-decoration-color: #000080\">        5 </span>│<span style=\"color: #800080; text-decoration-color: #800080\"> consent, permission, process, thoroughly, study, confirm, talk, turn, research, alright              </span>│\n",
       "├──────────┼──────────────────────────────────────────────────────────────────────────────────────────────────────┤\n",
       "│<span style=\"color: #000080; text-decoration-color: #000080\">        6 </span>│<span style=\"color: #800080; text-decoration-color: #800080\"> university, permission, general, newcastle, video, timothy, teaching, anonymize, speak, time         </span>│\n",
       "├──────────┼──────────────────────────────────────────────────────────────────────────────────────────────────────┤\n",
       "│<span style=\"color: #000080; text-decoration-color: #000080\">        7 </span>│<span style=\"color: #800080; text-decoration-color: #800080\"> series, kind, want, type, ask, information, study, individual, thing, lot                            </span>│\n",
       "├──────────┼──────────────────────────────────────────────────────────────────────────────────────────────────────┤\n",
       "│<span style=\"color: #000080; text-decoration-color: #000080\">        8 </span>│<span style=\"color: #800080; text-decoration-color: #800080\"> kind, start, type, make, mean, parent, consent, series, child, price                                 </span>│\n",
       "├──────────┼──────────────────────────────────────────────────────────────────────────────────────────────────────┤\n",
       "│<span style=\"color: #000080; text-decoration-color: #000080\">        9 </span>│<span style=\"color: #800080; text-decoration-color: #800080\"> kind, opportunity, benefit, direct, voluntary, point, absolutely, excellent, information,            </span>│\n",
       "│<span style=\"color: #000080; text-decoration-color: #000080\">          </span>│<span style=\"color: #800080; text-decoration-color: #800080\"> professional                                                                                         </span>│\n",
       "└──────────┴──────────────────────────────────────────────────────────────────────────────────────────────────────┘\n",
       "</pre>\n"
      ],
      "text/plain": [
       "┏━━━━━━━━━━┳━━━━━━━━━━━━━━━━━━━━━━━━━━━━━━━━━━━━━━━━━━━━━━━━━━━━━━━━━━━━━━━━━━━━━━━━━━━━━━━━━━━━━━━━━━━━━━━━━━━━━━┓\n",
       "┃\u001b[1m \u001b[0m\u001b[1mTopic ID\u001b[0m\u001b[1m \u001b[0m┃\u001b[1m \u001b[0m\u001b[1mTop 10 Words                                                                                        \u001b[0m\u001b[1m \u001b[0m┃\n",
       "┡━━━━━━━━━━╇━━━━━━━━━━━━━━━━━━━━━━━━━━━━━━━━━━━━━━━━━━━━━━━━━━━━━━━━━━━━━━━━━━━━━━━━━━━━━━━━━━━━━━━━━━━━━━━━━━━━━━┩\n",
       "│\u001b[34m \u001b[0m\u001b[34m       0\u001b[0m\u001b[34m \u001b[0m│\u001b[35m \u001b[0m\u001b[35muniversity, newcastle, study, teaching, interview, withdraw, copy, researcher, gp, finding          \u001b[0m\u001b[35m \u001b[0m│\n",
       "├──────────┼──────────────────────────────────────────────────────────────────────────────────────────────────────┤\n",
       "│\u001b[34m \u001b[0m\u001b[34m       1\u001b[0m\u001b[34m \u001b[0m│\u001b[35m \u001b[0m\u001b[35mread, research, publication, satisfactorily, sheet, important, document, yes, voluntary, consent    \u001b[0m\u001b[35m \u001b[0m│\n",
       "├──────────┼──────────────────────────────────────────────────────────────────────────────────────────────────────┤\n",
       "│\u001b[34m \u001b[0m\u001b[34m       2\u001b[0m\u001b[34m \u001b[0m│\u001b[35m \u001b[0m\u001b[35mresearcher, anonymize, quotation, publication, type, identifiable, research, university, mean,      \u001b[0m\u001b[35m \u001b[0m│\n",
       "│\u001b[34m          \u001b[0m│\u001b[35m \u001b[0m\u001b[35mindividual                                                                                          \u001b[0m\u001b[35m \u001b[0m│\n",
       "├──────────┼──────────────────────────────────────────────────────────────────────────────────────────────────────┤\n",
       "│\u001b[34m \u001b[0m\u001b[34m       3\u001b[0m\u001b[34m \u001b[0m│\u001b[35m \u001b[0m\u001b[35mparticipant, free, price, process, kind, professional, type, stuff, people, thing                   \u001b[0m\u001b[35m \u001b[0m│\n",
       "├──────────┼──────────────────────────────────────────────────────────────────────────────────────────────────────┤\n",
       "│\u001b[34m \u001b[0m\u001b[34m       4\u001b[0m\u001b[34m \u001b[0m│\u001b[35m \u001b[0m\u001b[35mprice, kind, thing, identifiable, copy, receive, document, free, fine, important                    \u001b[0m\u001b[35m \u001b[0m│\n",
       "├──────────┼──────────────────────────────────────────────────────────────────────────────────────────────────────┤\n",
       "│\u001b[34m \u001b[0m\u001b[34m       5\u001b[0m\u001b[34m \u001b[0m│\u001b[35m \u001b[0m\u001b[35mconsent, permission, process, thoroughly, study, confirm, talk, turn, research, alright             \u001b[0m\u001b[35m \u001b[0m│\n",
       "├──────────┼──────────────────────────────────────────────────────────────────────────────────────────────────────┤\n",
       "│\u001b[34m \u001b[0m\u001b[34m       6\u001b[0m\u001b[34m \u001b[0m│\u001b[35m \u001b[0m\u001b[35muniversity, permission, general, newcastle, video, timothy, teaching, anonymize, speak, time        \u001b[0m\u001b[35m \u001b[0m│\n",
       "├──────────┼──────────────────────────────────────────────────────────────────────────────────────────────────────┤\n",
       "│\u001b[34m \u001b[0m\u001b[34m       7\u001b[0m\u001b[34m \u001b[0m│\u001b[35m \u001b[0m\u001b[35mseries, kind, want, type, ask, information, study, individual, thing, lot                           \u001b[0m\u001b[35m \u001b[0m│\n",
       "├──────────┼──────────────────────────────────────────────────────────────────────────────────────────────────────┤\n",
       "│\u001b[34m \u001b[0m\u001b[34m       8\u001b[0m\u001b[34m \u001b[0m│\u001b[35m \u001b[0m\u001b[35mkind, start, type, make, mean, parent, consent, series, child, price                                \u001b[0m\u001b[35m \u001b[0m│\n",
       "├──────────┼──────────────────────────────────────────────────────────────────────────────────────────────────────┤\n",
       "│\u001b[34m \u001b[0m\u001b[34m       9\u001b[0m\u001b[34m \u001b[0m│\u001b[35m \u001b[0m\u001b[35mkind, opportunity, benefit, direct, voluntary, point, absolutely, excellent, information,           \u001b[0m\u001b[35m \u001b[0m│\n",
       "│\u001b[34m          \u001b[0m│\u001b[35m \u001b[0m\u001b[35mprofessional                                                                                        \u001b[0m\u001b[35m \u001b[0m│\n",
       "└──────────┴──────────────────────────────────────────────────────────────────────────────────────────────────────┘\n"
      ]
     },
     "metadata": {},
     "output_type": "display_data"
    }
   ],
   "source": [
    "from turftopic import SemanticSignalSeparation\n",
    "\n",
    "model = SemanticSignalSeparation(10, encoder=\"all-MiniLM-L12-v2\")\n",
    "model.fit(processed_docs_all)\n",
    "\n",
    "model.print_topics()"
   ]
  },
  {
   "cell_type": "markdown",
   "id": "fb265a3e-9934-47f6-b418-2995a3c2dde1",
   "metadata": {},
   "source": [
    "#### OpenAI's GPT-3.5 based approach\n",
    "\n",
    "We use GPT-3.5 via OpenAI's API with system prompt `You are a helpful research assistant` and user prompt `Please tell me what themes are mentioned in the following interview transcript. Themes are short words or phrases that capture something important about the research topic and purpose as revealed in the interview.  Please categorise themes based on the COM-B model (capability, opportunity, and motivation), and identify barriers and facilitators.`\n",
    "\n"
   ]
  },
  {
   "cell_type": "code",
   "execution_count": null,
   "id": "81ac35f3-26b2-4ebe-bf40-77ba78e28adb",
   "metadata": {},
   "outputs": [],
   "source": [
    "%env OPENAI_API_KEY=xxx"
   ]
  },
  {
   "cell_type": "code",
   "execution_count": 8,
   "id": "77b2248f-eb03-4b0d-addf-bc62edc5facf",
   "metadata": {},
   "outputs": [
    {
     "name": "stderr",
     "output_type": "stream",
     "text": [
      "huggingface/tokenizers: The current process just got forked, after parallelism has already been used. Disabling parallelism to avoid deadlocks...\n",
      "To disable this warning, you can either:\n",
      "\t- Avoid using `tokenizers` before the fork if possible\n",
      "\t- Explicitly set the environment variable TOKENIZERS_PARALLELISM=(true | false)\n"
     ]
    },
    {
     "name": "stdout",
     "output_type": "stream",
     "text": [
      ".\n",
      ".\n",
      ".\n",
      ".\n",
      ".\n",
      ".\n",
      ".\n",
      ".\n",
      ".\n",
      ".\n",
      ".\n",
      ".\n"
     ]
    }
   ],
   "source": [
    "import os\n",
    "#import wandb\n",
    "from openai import OpenAI\n",
    "client = OpenAI()\n",
    "\n",
    "#gpt_assistant_prompt = \"You are a \" + input (\"Who should I be, as I answer your prompt?\") \n",
    "#gpt_user_prompt = input (\"What prompt do you want me to do?\") \n",
    "\n",
    "#wandb.init()\n",
    "#prediction_table = wandb.Table(columns=[\"Prompt\", \"Response\", \"Tokens\", \"Max Tokens\", \"Frequency Penalty\", \"Temperature\"])\n",
    "\n",
    "identified_themes = []\n",
    "\n",
    "for doc in ds1['text']: \n",
    "    \n",
    "    gpt_assistant_prompt = \"You are a helpful research assistant. \"\n",
    "    gpt_user_prompt = '''Please tell me what themes are mentioned in the following interview transcript. \n",
    "                      Themes are short words or phrases that capture something important about the research topic and purpose as revealed in the interview. \n",
    "                      Please categorise themes based on the COM-B model (capability, opportunity, and motivation), and identify barriers and facilitators.'''\n",
    "    gpt_user_prompt = gpt_user_prompt + f'Transcript: \" {doc} \"'\n",
    "    \n",
    "    gpt_prompt = gpt_assistant_prompt, gpt_user_prompt\n",
    "    #print(gpt_prompt)\n",
    "    \n",
    "    message=[{\"role\": \"assistant\", \"content\": gpt_assistant_prompt}, {\"role\": \"user\", \"content\": gpt_user_prompt}]\n",
    "    temperature=0.2\n",
    "    max_tokens=1000\n",
    "    frequency_penalty=0.0\n",
    "    \n",
    "    response = client.chat.completions.create(\n",
    "        model=\"gpt-3.5-turbo\",#model=\"gpt-4\",\n",
    "        messages = message,\n",
    "        temperature=temperature,\n",
    "        max_tokens=max_tokens,\n",
    "        frequency_penalty=frequency_penalty\n",
    "    )\n",
    "    print(\".\")\n",
    "    response_text = response.choices[0].message.content\n",
    "    identified_themes.append(response_text)\n",
    "    #tokens_used = response.usage.total_tokens\n",
    "    #prediction_table.add_data(gpt_prompt, response_text, tokens_used, max_tokens, frequency_penalty, temperature)\n",
    "\n",
    "#wandb.log({'predictions': prediction_table})\n",
    "#wandb.finish()\n",
    "\n",
    "\n"
   ]
  },
  {
   "cell_type": "code",
   "execution_count": 9,
   "id": "ae59bea5-b69c-42da-b913-19e4e74f552f",
   "metadata": {},
   "outputs": [
    {
     "name": "stdout",
     "output_type": "stream",
     "text": [
      "[\"Themes identified in the interview transcript based on the COM-B model:\\n\\nCapability:\\n- Understanding of the flu vaccine and its benefits\\n- Knowledge about flu symptoms in children\\n- Access to information sources like the internet and health visitor's resources\\n\\nOpportunity:\\n- Access to healthcare professionals for vaccination advice\\n- Challenges in accessing healthcare due to personal circumstances and moving\\n- Lack of discussion with GP about flu vaccine for preschool-age child\\n\\nMotivation:\\n- Willingness to vaccinate children based on medical advice\\n- Concern for children's health, especially with underlying health conditions\\n- Personal experience with vaccination due to health condition\\n\\nBarriers:\\n- Lack of discussion with healthcare professionals about flu vaccine for preschool-age child\\n- Personal circumstances affecting access to healthcare and vaccination information\\n\\nFacilitators:\\n- Willingness to vaccinate children based on medical advice\\n- Personal experience with vaccination due to health condition\\n- Use of resources like the internet and health visitor's materials for information\\n\\nOverall, the themes in the interview transcript highlight the importance of access to healthcare information and professionals, personal experiences influencing vaccination decisions, and the impact of personal circumstances on vaccination decisions.\", \"Themes identified in the interview transcript based on the COM-B model:\\n\\nCapability:\\n1. Understanding of the study requirements and consent process\\n2. Knowledge about the flu, symptoms, and vaccination\\n3. Decision-making process regarding vaccination for the child\\n\\nOpportunity:\\n1. Access to information sources like the NHS website and GP for flu-related information\\n2. Challenges in accessing the flu vaccine due to supply issues and timing\\n3. Communication with healthcare professionals about vaccination\\n\\nMotivation:\\n1. Willingness to participate in the study and provide consent\\n2. Concern for the child's health and well-being\\n3. Prioritization of vaccination for the child's health and prevention\\n4. Frustration with the process of obtaining the flu vaccine\\n\\nBarriers:\\n1. Supply issues and timing constraints for accessing the flu vaccine\\n2. Lack of communication with healthcare professionals about the flu vaccine\\n3. Concerns about potential side effects of the flu vaccine\\n\\nFacilitators:\\n1. Prioritization of vaccination for the child's health and well-being\\n2. Access to reliable information sources like the NHS website\\n3. Willingness to participate in the study and provide consent\\n\\nOverall, the themes in the interview transcript highlight the importance of understanding, access to information, and motivation in decision-making regarding the flu vaccine for the child. The barriers and facilitators identified provide insights into the challenges and considerations that influence vaccination decisions.\", \"Themes identified in the interview transcript based on the COM-B model:\\n\\nCapability:\\n- Informed consent process\\n- Understanding of flu and flu vaccine\\n- Knowledge of where to access information about flu and vaccines\\n- Advocacy for daughter's vaccination\\n\\nOpportunity:\\n- Access to healthcare services for vaccination\\n- Challenges in accessing flu vaccine for daughter\\n- Influence of public health messages on vaccination decisions\\n- Communication with healthcare professionals about vaccination\\n\\nMotivation:\\n- Concern for daughter's health and well-being\\n- Collective benefit of vaccination for community\\n- Frustration with bureaucracy and supply issues for flu vaccine\\n- Influence of family members' attitudes towards vaccination\\n\\nBarriers:\\n- Supply shortages and bureaucratic challenges in accessing flu vaccine\\n- Family members' skepticism towards vaccination\\n- Concerns about COVID-19 impacting vaccination efforts\\n\\nFacilitators:\\n- Advocacy for daughter's vaccination despite challenges\\n- Trust in healthcare professionals and public health messages\\n- Personal experience with flu vaccine during pregnancy\\n\\nOverall, the themes in the interview highlight the importance of capability, opportunity, and motivation factors in shaping attitudes and behaviors towards flu vaccination. The barriers and facilitators identified provide insights into the challenges and motivations that influence vaccination decisions.\", \"Themes identified in the interview transcript based on the COM-B model:\\n\\nCapability:\\n1. Understanding of the consent process and information provided.\\n2. Knowledge about the flu and its symptoms.\\n3. Decision-making process for child vaccinations.\\n4. Researching and seeking information about vaccinations.\\n5. Monitoring and observing child's reactions to vaccines.\\n\\nOpportunity:\\n1. Access to healthcare professionals for vaccination appointments.\\n2. Availability of information from the NHS and online sources.\\n3. Timing of vaccination appointments based on work schedules.\\n4. Family support and supervision during vaccination reactions.\\n5. Communication with school and health visitors about vaccinations.\\n\\nMotivation:\\n1. Concern for family health and well-being.\\n2. Desire to prevent illness and avoid disruptions to daily life.\\n3. Trust in healthcare professionals and vaccination recommendations.\\n4. Personal experiences with flu and vaccinations influencing decisions.\\n5. Proactive approach to protecting family from flu.\\n\\nBarriers:\\n1. Initial reservations about specific vaccines (e.g., MMR).\\n2. Concerns about potential side effects and reactions to vaccines.\\n3. Need for additional information and reassurance before vaccination.\\n\\nFacilitators:\\n1. Clear communication and information provided by healthcare professionals.\\n2. Supportive family environment for monitoring vaccine reactions.\\n3. Access to vaccination appointments and timely scheduling.\\n4. Positive experiences with previous vaccinations influencing decisions.\\n5. Understanding the benefits of vaccination for individual and family health.\", \"Themes identified in the interview transcript based on the COM-B model (capability, opportunity, and motivation) are as follows:\\n\\nCapability:\\n1. Understanding of the flu: The participant demonstrates an understanding of the flu as a virus and its potential severity, especially for individuals with respiratory problems.\\n2. Knowledge seeking behavior: The participant seeks information about the flu and vaccination from reliable sources like the NHS website and WebMD.\\n3. Medical history and allergies: The participant discusses her child's severe food allergies and the impact on vaccination decisions.\\n\\nOpportunity:\\n1. Access to vaccination: The participant faced logistical challenges in scheduling flu vaccination for her daughter due to work commitments and limited clinic availability.\\n2. Information sources: The participant relies on healthcare professionals, such as allergy specialists and GPs, for accurate information about vaccinations.\\n\\nMotivation:\\n1. Concern for children's health: The participant expresses concern about her children's susceptibility to the flu due to their health conditions and the potential impact on their well-being.\\n2. Social responsibility: The participant values vaccination not only for protecting her children but also for preventing the spread of the flu to vulnerable individuals, such as those with compromised immune systems.\\n3. Trust in healthcare professionals: The participant's trust in allergy specialists influences her vaccination decisions and highlights the importance of expert advice in healthcare choices.\\n\\nBarriers:\\n1. Logistical challenges: Work commitments and limited clinic availability hindered the participant's ability to schedule flu vaccination for her daughter.\\n2. Conflicting information: Discrepancies in advice from healthcare professionals, such as GPs and allergy specialists, can create confusion and impact vaccination decisions.\\n\\nFacilitators:\\n1. Reliable information sources: Access to trustworthy sources like the NHS website and allergy specialists helps the participant make informed decisions about vaccination.\\n2. Social support: The participant's interactions with other parents, healthcare professionals, and school programs provide opportunities for vaccination and support decision-making.\\n\\nOverall, the themes in the interview transcript highlight the complex interplay of capability, opportunity, and motivation factors that influence vaccination decisions and behaviors. The participant's experiences underscore the importance of access to reliable information, support from healthcare professionals, and addressing logistical barriers in promoting vaccination uptake.\", \"Themes based on the COM-B model:\\n\\nCapability:\\n- Understanding of the flu and its severity\\n- Knowledge about the flu vaccine and its benefits\\n- Trust in medical professionals and institutions\\n\\nOpportunity:\\n- Access to information about the flu vaccine through letters and GP consultations\\n- Convenience of the vaccination process\\n- Use of trusted sources like the NHS website for information\\n\\nMotivation:\\n- Concern for child's health and well-being\\n- Faith in vaccination and medical experts\\n- Influence of family background (mother being a nurse) on attitudes towards healthcare\\n\\nBarriers:\\n- Fear or discomfort associated with injections for the child\\n- Limited knowledge about herd immunity and community spread\\n\\nFacilitators:\\n- Trust in medical professionals and institutions\\n- Convenience and ease of the vaccination process\\n- Faith in the effectiveness of vaccinations\\n\\nOverall, the themes in the interview transcript highlight the importance of understanding, access, and motivation in the decision-making process regarding the flu vaccine for the child. Trust in medical professionals and institutions, along with convenience and ease of the vaccination process, play significant roles in the participant's decision-making.\", \"Themes identified in the interview transcript based on the COM-B model:\\n\\nCapability:\\n1. Understanding of the flu and its symptoms\\n2. Knowledge about vaccination benefits and eligibility\\n3. Trust in medical institutions and science\\n4. Information-seeking behavior regarding vaccinations\\n\\nOpportunity:\\n1. Access to healthcare professionals for vaccination discussions\\n2. Influence of peer support groups on decision-making\\n3. Availability of vaccination through NHS and private options\\n4. Use of online resources for health information\\n\\nMotivation:\\n1. Concern for child's health and well-being\\n2. Desire to prevent illness and avoid negative outcomes\\n3. Trust in the effectiveness of vaccinations\\n4. Willingness to educate oneself on health topics\\n\\nBarriers:\\n1. Frustration over age eligibility for flu vaccine\\n2. Limited access to medical professionals for vaccine discussions\\n3. Lack of personal experience with flu vaccination this year\\n\\nFacilitators:\\n1. Trust in NHS recommendations for vaccinations\\n2. Peer support and information-sharing within parent groups\\n3. Positive past experiences with routine childhood vaccinations\\n4. Willingness to seek out information and educate oneself on health topics\\n\\nOverall, the participant demonstrates a strong motivation to protect their child's health through vaccination, utilizes available opportunities for information-seeking, and shows a capability to understand and make informed decisions regarding vaccinations. The barriers identified are mainly related to age eligibility and limited access to medical professionals for discussions, while facilitators include trust in healthcare institutions and peer support.\", \"Themes identified in the interview transcript based on the COM-B model:\\n\\nCapability:\\n1. Understanding of the flu symptoms and effects on children.\\n2. Knowledge of the flu vaccine and its benefits.\\n3. Trust in scientific research and information sources.\\n4. Decision-making process for vaccinating children.\\n\\nOpportunity:\\n1. Accessibility and ease of getting flu vaccinations for children.\\n2. Information sources for learning about flu and vaccines.\\n3. Communication with healthcare professionals about vaccinations.\\n4. Availability of flu vaccine through the NHS and private sources.\\n\\nMotivation:\\n1. Concern for children's health and well-being.\\n2. Risk mitigation through vaccination.\\n3. Trust in the safety and effectiveness of vaccines.\\n4. Importance of building immunity through childhood vaccinations.\\n\\nBarriers:\\n1. Limited personal experience with flu or flu vaccine for children.\\n2. Reliance on spouse's expertise in research and decision-making.\\n3. Potential challenges in identifying symptoms post-vaccination.\\n\\nFacilitators:\\n1. Trust in healthcare professionals and scientific research.\\n2. Accessibility and convenience of vaccination process.\\n3. Prioritization of children's health and well-being.\\n4. Proactive approach to seeking out information and vaccinations.\\n\\nOverall, the themes in the interview transcript highlight a positive attitude towards vaccination, a focus on children's health, and a reliance on trusted sources of information for decision-making.\", \"Themes identified in the interview transcript based on the COM-B model:\\n\\nCapability:\\n- Understanding of the consent process and study procedures\\n- Knowledge about the flu vaccine and its benefits\\n- Awareness of the importance of vaccinations for children\\n- Access to information from healthcare providers and resources\\n\\nOpportunity:\\n- Scheduling constraints affecting vaccine appointments\\n- Limited access to convenient clinic times for vaccinations\\n- Information provided by healthcare professionals and school programs\\n\\nMotivation:\\n- Willingness to vaccinate children for their best interest\\n- Trust in healthcare providers and acceptance of vaccination recommendations\\n- Desire to learn more about the flu vaccine and its effectiveness\\n- Prioritization of children's health and well-being\\n\\nBarriers:\\n- Scheduling conflicts for vaccine appointments\\n- Lack of prior knowledge about the flu vaccine\\n- Limited awareness of personal eligibility for vaccination\\n\\nFacilitators:\\n- Trust in healthcare providers and acceptance of vaccination recommendations\\n- Access to information from healthcare providers and resources\\n- Willingness to learn more about the flu vaccine and consider vaccination for children\\n\\nOverall, the participant demonstrates a willingness to prioritize their children's health and well-being, but faces barriers related to scheduling constraints and limited awareness about the flu vaccine. Trust in healthcare providers and a desire to learn more about vaccination suggest potential facilitators for increasing vaccine uptake in the future.\", \"Themes identified in the interview transcript based on the COM-B model (capability, opportunity, and motivation) are as follows:\\n\\nCapability:\\n- Consent process: The participant demonstrates the capability to understand and provide consent for the vaccination process.\\n- Knowledge about flu: The participant shows capability in understanding the symptoms and severity of flu, distinguishing between flu and cold, and recognizing signs of flu in children.\\n\\nOpportunity:\\n- Access to vaccination: The participant faced barriers in accessing the flu vaccine due to shortages and delays, highlighting the importance of timely availability.\\n- Communication with healthcare providers: The participant experienced challenges in effective communication with the GP regarding vaccine availability and information, indicating a lack of opportunity for clear dialogue.\\n\\nMotivation:\\n- Protective behavior: The participant is motivated by the desire to protect her children from illness, leading to a proactive approach towards vaccination.\\n- Information-seeking behavior: The participant seeks information from trusted sources like her mother and reputable websites, demonstrating motivation to make informed decisions about vaccination.\\n\\nBarriers:\\n- Delay in vaccine availability: The participant faced delays in receiving the flu vaccine due to shortages, impacting timely vaccination.\\n- Communication barriers with healthcare providers: The participant expressed difficulties in engaging in meaningful conversations with the GP, indicating a barrier to open dialogue and information exchange.\\n\\nFacilitators:\\n- Protective motivation: The participant's strong motivation to protect her children drives her to seek out vaccination opportunities and information.\\n- Information-seeking behavior: The participant's proactive approach to seeking information from reliable sources facilitates informed decision-making regarding vaccination.\\n\\nOverall, the themes in the interview transcript highlight the importance of addressing barriers to access, improving communication between healthcare providers and patients, and promoting informed decision-making to enhance vaccination uptake and effectiveness.\", 'Themes identified in the interview transcript based on the COM-B model:\\n\\nCapability:\\n1. Understanding of the importance of vaccination and public health practices.\\n2. Knowledge of the benefits of flu vaccination for children.\\n3. Awareness of the process and logistics of getting the flu vaccine for children.\\n\\nOpportunity:\\n1. Access to healthcare services for vaccination.\\n2. Reminder through letters from the GP for vaccination appointments.\\n3. Flexibility in work schedule to accommodate vaccination appointments.\\n\\nMotivation:\\n1. Intrinsic motivation to lead by example in promoting vaccination.\\n2. Concern for the wider community and public health impact of vaccination.\\n3. Interest in understanding parental perceptions and barriers to vaccination uptake.\\n4. Consideration of incentives and socio-economic factors influencing vaccination decisions.\\n\\nBarriers:\\n1. Perceived inconvenience of making and attending vaccination appointments.\\n2. Lack of urgency in scheduling vaccination appointments.\\n3. Concerns about the unpleasantness of the vaccination process for children.\\n\\nFacilitators:\\n1. Reminder letters from the GP to prompt vaccination.\\n2. Supportive workplace environment that promotes vaccination.\\n3. Interest in research findings to inform public health strategies.\\n\\nOverall, the interviewee demonstrates a strong understanding of the importance of vaccination, with a focus on public health impact and community protection. The interview highlights the need for continued promotion of vaccination, addressing barriers, and leveraging opportunities to improve vaccination uptake rates.', 'Themes identified in the interview transcript based on the COM-B model (capability, opportunity, and motivation) are as follows:\\n\\nCapability:\\n- Understanding of the flu symptoms and severity\\n- Knowledge about the flu vaccine and its benefits\\n- Trust in medical professionals and healthcare recommendations\\n\\nOpportunity:\\n- Access to information through NHS and official government health sites\\n- Utilization of online resources for health information\\n- Interaction with healthcare professionals for vaccinations\\n\\nMotivation:\\n- Concern for the well-being of children and family members\\n- Social responsibility towards community health\\n- Trust in vaccination programs for disease prevention\\n\\nBarriers:\\n- Lack of awareness or information about the flu vaccine for the younger child\\n- Delay in healthcare appointments and checks for vaccinations\\n- Limited understanding of the flu vaccine eligibility and recommendations\\n\\nFacilitators:\\n- Trust in healthcare professionals and vaccination programs\\n- Willingness to protect children and family members through vaccination\\n- Utilization of online resources and community support for health decisions\\n\\nOverall, the interviewee demonstrates a strong motivation to protect their children and family members through vaccination, while also highlighting the importance of access to accurate information and healthcare services for informed decision-making. The barriers identified suggest a need for improved communication and awareness about vaccination recommendations for children.']\n",
      ".\n",
      "After integrating and summarizing the identified themes from the interview transcripts based on the COM-B model, the core set of key repeating themes can be categorized as follows:\n",
      "\n",
      "1. **Capability:**\n",
      "   - Understanding and knowledge about the flu, its symptoms, and the flu vaccine.\n",
      "   - Access to information sources like healthcare professionals, the internet, and official health resources.\n",
      "   - Informed decision-making process regarding vaccination for children.\n",
      "\n",
      "2. **Opportunity:**\n",
      "   - Access to healthcare professionals for vaccination advice and appointments.\n",
      "   - Challenges in accessing healthcare services and vaccine supply due to personal circumstances and logistical issues.\n",
      "   - Communication with healthcare professionals and utilization of information sources for vaccination-related information.\n",
      "\n",
      "3. **Motivation:**\n",
      "   - Willingness to vaccinate children based on medical advice and concern for their health.\n",
      "   - Personal experiences with vaccinations and health conditions influencing decision-making.\n",
      "   - Social responsibility and collective benefit of vaccination for community health.\n",
      "\n",
      "4. **Barriers:**\n",
      "   - Lack of discussion with healthcare professionals about the flu vaccine for children.\n",
      "   - Personal circumstances affecting access to healthcare and vaccination information.\n",
      "   - Concerns about potential side effects and supply shortages impacting vaccination decisions.\n",
      "\n",
      "5. **Facilitators:**\n",
      "   - Trust in healthcare professionals and vaccination recommendations.\n",
      "   - Utilization of reliable information sources and resources for decision-making.\n",
      "   - Advocacy for vaccination, positive past experiences, and proactive approach to health protection.\n",
      "\n",
      "Overall, the integrated themes emphasize the importance of understanding, access to information, motivation, and addressing barriers and facilitators in the decision-making process regarding flu vaccination for children. Trust in healthcare professionals, personal experiences, and social responsibility play significant roles in shaping attitudes and behaviors towards vaccination. Addressing barriers such as communication gaps and logistical challenges, while leveraging facilitators like reliable information sources and proactive health behaviors, can enhance vaccination uptake and promote community health.\n"
     ]
    }
   ],
   "source": [
    "print(identified_themes)\n",
    "\n",
    "gpt_assistant_prompt = \"You are a helpful research assistant. \"\n",
    "gpt_user_prompt = \"Please integrate and summarise the following themes that have been identified in interview transcripts into a core set of key repeating themes, according to the COM-B model. Themes are short words or phrases that capture something important about the research topic and purpose as revealed in the interview.\"\n",
    "gpt_user_prompt = gpt_user_prompt + f'Identified themes \" {\" \".join(identified_themes)} \"'\n",
    "    \n",
    "gpt_prompt = gpt_assistant_prompt, gpt_user_prompt\n",
    "    \n",
    "message=[{\"role\": \"assistant\", \"content\": gpt_assistant_prompt}, {\"role\": \"user\", \"content\": gpt_user_prompt}]\n",
    "temperature=0.2\n",
    "max_tokens=1000\n",
    "frequency_penalty=0.0\n",
    "    \n",
    "response = client.chat.completions.create(\n",
    "    model=\"gpt-3.5-turbo\",#model=\"gpt-4\",\n",
    "    messages = message,\n",
    "    temperature=temperature,\n",
    "    max_tokens=max_tokens,\n",
    "    frequency_penalty=frequency_penalty\n",
    ")\n",
    "print(\".\")\n",
    "response_text = response.choices[0].message.content\n",
    "\n",
    "print(response_text)\n"
   ]
  }
 ],
 "metadata": {
  "kernelspec": {
   "display_name": "Python 3 (ipykernel)",
   "language": "python",
   "name": "python3"
  },
  "language_info": {
   "codemirror_mode": {
    "name": "ipython",
    "version": 3
   },
   "file_extension": ".py",
   "mimetype": "text/x-python",
   "name": "python",
   "nbconvert_exporter": "python",
   "pygments_lexer": "ipython3",
   "version": "3.12.2"
  }
 },
 "nbformat": 4,
 "nbformat_minor": 5
}
